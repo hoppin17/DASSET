{
 "cells": [
  {
   "cell_type": "code",
   "execution_count": 1,
   "id": "a4e61ff6-2525-41ea-944c-6244a6fe4ff5",
   "metadata": {
    "execution": {
     "iopub.execute_input": "2024-07-19T14:29:27.923428Z",
     "iopub.status.busy": "2024-07-19T14:29:27.923011Z",
     "iopub.status.idle": "2024-07-19T14:29:28.527878Z",
     "shell.execute_reply": "2024-07-19T14:29:28.527613Z",
     "shell.execute_reply.started": "2024-07-19T14:29:27.923386Z"
    }
   },
   "outputs": [],
   "source": [
    "import pandas as pd\n",
    "import numpy as np\n",
    "import requests\n",
    "import json\n",
    "from datetime import datetime, timedelta\n",
    "import os\n",
    "import time\n",
    "import csv"
   ]
  },
  {
   "cell_type": "code",
   "execution_count": 2,
   "id": "f5c56027-cdca-4537-81fb-01ac6c0bb0e4",
   "metadata": {
    "execution": {
     "iopub.execute_input": "2024-07-19T14:29:33.471371Z",
     "iopub.status.busy": "2024-07-19T14:29:33.470840Z",
     "iopub.status.idle": "2024-07-19T14:29:33.475924Z",
     "shell.execute_reply": "2024-07-19T14:29:33.475183Z",
     "shell.execute_reply.started": "2024-07-19T14:29:33.471350Z"
    }
   },
   "outputs": [],
   "source": [
    "# 본인의 Bitquery api키를 입력\n",
    "api_key = 'BQYrRP58Ms7NzA5zTfO6DjtJDrrqOR3C'\n",
    "headers = {\n",
    "    'Content-Type': 'application/json',\n",
    "    'X-API-KEY': api_key\n",
    "}\n",
    "\n",
    "# Ticker\n",
    "Ticker = \"SOL\"\n",
    "\n",
    "## 밑에 4가지 값을 조절가능!\n",
    "# 시작 날짜와 종료 날짜 설정 (변수 정의) 일자 단위로만 추출 가능\n",
    "start_date = \"2020-06-25\"\n",
    "end_date = \"2020-06-26\"\n",
    "\n",
    "# 페이지네이션을 위해 초기 offset 설정 # 이 부분은 안 건들이는 게 좋음!\n",
    "offset = 0\n",
    "batch_size = 25000"
   ]
  },
  {
   "cell_type": "markdown",
   "id": "e42db637-0420-4715-83ae-3a8bb1acdea3",
   "metadata": {},
   "source": [
    "## JSON을 개별로 저장한 후에 CSV로 통합하는 코드 - 안정성을 위해 이 코드 이용"
   ]
  },
  {
   "cell_type": "code",
   "execution_count": 3,
   "id": "5e8400e1-f3d7-45d5-81f2-d0e24a572ce1",
   "metadata": {
    "execution": {
     "iopub.execute_input": "2024-07-19T14:29:34.630675Z",
     "iopub.status.busy": "2024-07-19T14:29:34.630341Z",
     "iopub.status.idle": "2024-07-19T14:29:36.205383Z",
     "shell.execute_reply": "2024-07-19T14:29:36.203720Z",
     "shell.execute_reply.started": "2024-07-19T14:29:34.630657Z"
    }
   },
   "outputs": [
    {
     "name": "stdout",
     "output_type": "stream",
     "text": [
      "Data successfully saved to JSON files in SOL_2020-06-25_2020-06-26_json_pages\n"
     ]
    }
   ],
   "source": [
    "# Bitquery 엔드포인트\n",
    "url = 'https://graphql.bitquery.io/'\n",
    "\n",
    "# GraphQL 쿼리 템플릿 설정\n",
    "query_template = '''\n",
    "query ($limit: Int!, $offset: Int!, $from: ISO8601DateTime, $till: ISO8601DateTime) {\n",
    "  solana(network: solana) {\n",
    "    transfers(\n",
    "      date: {since: $from, till: $till}\n",
    "      options: {asc: \"block.height\", limit: $limit, offset: $offset}\n",
    "      currency: {is: \"SOL\"}\n",
    "    ) {\n",
    "      receiver {\n",
    "        address\n",
    "      }\n",
    "      sender {\n",
    "        address\n",
    "      }\n",
    "      transaction {\n",
    "        fee\n",
    "      }\n",
    "      block {\n",
    "        hash\n",
    "        height\n",
    "        timestamp {\n",
    "          time(format: \"%Y-%m-%d %H:%M:%S\")\n",
    "        }\n",
    "      }\n",
    "      amount: amount(currency: {is: \"SOL\"})\n",
    "    }\n",
    "  }\n",
    "}\n",
    "'''\n",
    "\n",
    "\n",
    "# JSON 파일 저장 디렉토리 설정\n",
    "output_dir = f'{Ticker}_{start_date}_{end_date}_json_pages'\n",
    "os.makedirs(output_dir, exist_ok=True)\n",
    "\n",
    "page_number = 1\n",
    "\n",
    "params = {\n",
    "    \"limit\": batch_size,\n",
    "    \"offset\": offset,\n",
    "    \"from\": start_date,\n",
    "    \"till\": end_date\n",
    "}\n",
    "while True:\n",
    "    response = requests.post(url, headers=headers, json={'query': query_template, 'variables': params})\n",
    "\n",
    "    if response.status_code == 200: # 문제 없을 경우 데이터가 추출\n",
    "        data = response.json()\n",
    "        if 'data' in data and '\bsolana' in data['data'] and 'transfers' in data['data']['solana']:\n",
    "            transfers = data['data']['solana']['transfers']\n",
    "            if not transfers:\n",
    "                break  # 더 이상 데이터가 없으면 종료\n",
    "\n",
    "            # JSON 파일로 저장\n",
    "            with open(os.path.join(output_dir, f'{Ticker}_{start_date}_{end_date}_page_{page_number}.json'), 'w') as json_file:\n",
    "                json.dump(transfers, json_file, indent=4)\n",
    "            \n",
    "            params[\"offset\"] += params[\"limit\"]  # 다음 페이지로 이동\n",
    "            print(f\"page {page_number} is complete!\")\n",
    "            page_number += 1\n",
    "        else:\n",
    "            break  # 데이터가 없으면 종료\n",
    "    else:\n",
    "        print(f'Query failed with status code {response.status_code}')\n",
    "        print(response.text)\n",
    "        break\n",
    "\n",
    "print(f'Data successfully saved to JSON files in {output_dir}')"
   ]
  },
  {
   "cell_type": "code",
   "execution_count": 5,
   "id": "fc16c8e3-7c0f-4edf-a0f0-44ed297f8dfe",
   "metadata": {
    "execution": {
     "iopub.execute_input": "2024-07-10T08:44:54.215903Z",
     "iopub.status.busy": "2024-07-10T08:44:54.215208Z",
     "iopub.status.idle": "2024-07-10T08:45:00.414744Z",
     "shell.execute_reply": "2024-07-10T08:45:00.414517Z",
     "shell.execute_reply.started": "2024-07-10T08:44:54.215876Z"
    }
   },
   "outputs": [
    {
     "name": "stdout",
     "output_type": "stream",
     "text": [
      "Data successfully saved to CSV file SOL_2023-12-01_2023-12-02_TRX.csv\n"
     ]
    }
   ],
   "source": [
    "## JSON 파일을 CSV로 변환하는 코드 ##\n",
    "\n",
    "# JSON 파일 저장 디렉토리 설정\n",
    "input_dir = f'{Ticker}_{start_date}_{end_date}_json_pages'\n",
    "output_csv = f'{Ticker}_{start_date}_{end_date}_TRX.csv'\n",
    "\n",
    "# CSV 파일에 저장할 필드 이름 설정\n",
    "fieldnames = [\n",
    "    'block_timestamp', 'block_height', 'block_hash', 'sender_address', \n",
    "    'receiver_address', 'amount'\n",
    "]\n",
    "\n",
    "# CSV 파일 생성 및 필드 이름 작성\n",
    "with open(output_csv, 'w', newline='') as csvfile:\n",
    "    writer = csv.DictWriter(csvfile, fieldnames=fieldnames)\n",
    "    writer.writeheader()\n",
    "\n",
    "    # JSON 파일들 읽기\n",
    "    for filename in os.listdir(input_dir):\n",
    "        if filename.endswith('.json'):\n",
    "            with open(os.path.join(input_dir, filename), 'r') as jsonfile:\n",
    "                data = json.load(jsonfile)['data']['solana']['transfers']\n",
    "\n",
    "                # JSON 데이터에서 필요한 필드 추출하여 CSV 파일에 쓰기\n",
    "                for transfer in data:\n",
    "                    row = {\n",
    "                        'block_timestamp': transfer['block']['timestamp']['time'],\n",
    "                        'block_height': transfer['block']['height'],\n",
    "                        'block_hash': transfer['block']['hash'],\n",
    "                        'sender_address': transfer['sender']['address'],\n",
    "                        'receiver_address': transfer['receiver']['address'],\n",
    "                        'currency_symbol': transfer['currency']['symbol'],\n",
    "                        'amount': transfer['amount']\n",
    "                    }\n",
    "                    writer.writerow(row)\n",
    "\n",
    "print(f'Data successfully saved to CSV file {output_csv}')"
   ]
  },
  {
   "cell_type": "markdown",
   "id": "29552d00-7b78-46fa-abe9-0d59eca7f4ea",
   "metadata": {
    "jp-MarkdownHeadingCollapsed": true
   },
   "source": [
    "## JSON가져와서 필요한 부분만 처리후 바로 CSV로 저장하는 코드(비추) - 별로 안커서 한번에 잘 될때 이 코드를 사용"
   ]
  },
  {
   "cell_type": "code",
   "execution_count": 5,
   "id": "6710bd65-65b9-46e7-9950-fb1b3993ea29",
   "metadata": {
    "execution": {
     "iopub.execute_input": "2024-07-10T05:58:55.409050Z",
     "iopub.status.busy": "2024-07-10T05:58:55.408699Z",
     "iopub.status.idle": "2024-07-10T05:58:55.448554Z",
     "shell.execute_reply": "2024-07-10T05:58:55.447811Z",
     "shell.execute_reply.started": "2024-07-10T05:58:55.409027Z"
    }
   },
   "outputs": [
    {
     "ename": "ValueError",
     "evalue": "unsupported format character 'Y' (0x59) at index 360",
     "output_type": "error",
     "traceback": [
      "\u001b[0;31m---------------------------------------------------------------------------\u001b[0m",
      "\u001b[0;31mValueError\u001b[0m                                Traceback (most recent call last)",
      "Cell \u001b[0;32mIn [5], line 75\u001b[0m\n\u001b[1;32m     72\u001b[0m page_number \u001b[38;5;241m=\u001b[39m \u001b[38;5;241m1\u001b[39m\n\u001b[1;32m     73\u001b[0m \u001b[38;5;28;01mwhile\u001b[39;00m \u001b[38;5;28;01mTrue\u001b[39;00m:\n\u001b[1;32m     74\u001b[0m     \u001b[38;5;66;03m# Format query with parameters\u001b[39;00m\n\u001b[0;32m---> 75\u001b[0m     query \u001b[38;5;241m=\u001b[39m query_template \u001b[38;5;241m%\u001b[39m (network, limit, offset, start_date, end_date)\n\u001b[1;32m     77\u001b[0m     \u001b[38;5;66;03m# Make API request\u001b[39;00m\n\u001b[1;32m     78\u001b[0m     response \u001b[38;5;241m=\u001b[39m requests\u001b[38;5;241m.\u001b[39mpost(url, headers\u001b[38;5;241m=\u001b[39mheaders, json\u001b[38;5;241m=\u001b[39m{\u001b[38;5;124m'\u001b[39m\u001b[38;5;124mquery\u001b[39m\u001b[38;5;124m'\u001b[39m: query})\n",
      "\u001b[0;31mValueError\u001b[0m: unsupported format character 'Y' (0x59) at index 360"
     ]
    }
   ],
   "source": [
    "# # Bitquery API key and endpoint\n",
    "\n",
    "# url = 'https://graphql.bitquery.io/'\n",
    "\n",
    "# # GraphQL query template\n",
    "# query_template = '''\n",
    "# query ($limit: Int!, $offset: Int!, $from: ISO8601DateTime, $till: ISO8601DateTime) {\n",
    "#   solana(network: solana) {\n",
    "#     transfers(\n",
    "#       date: {since: $from, till: $till}\n",
    "#       options: {asc: \"block.height\", limit: $limit, offset: $offset}\n",
    "#     ) {\n",
    "#       receiver {\n",
    "#         address\n",
    "#         type\n",
    "#       }\n",
    "#       sender {\n",
    "#         address\n",
    "#         type\n",
    "#       }\n",
    "#       block {\n",
    "#         hash\n",
    "#         height\n",
    "#         timestamp {\n",
    "#           time(format: \"%Y-%m-%d %H:%M:%S\")\n",
    "#         }\n",
    "#       }\n",
    "#       currency {\n",
    "#         symbol\n",
    "#       }\n",
    "#       amount: amount(currency: {is: \"SOL\"})\n",
    "#     }\n",
    "#   }\n",
    "# }\n",
    "# '''\n",
    "\n",
    "# # Parameters\n",
    "# limit = 10000\n",
    "# offset = 0\n",
    "# start_date = \"2023-12-01\"\n",
    "# end_date = \"2023-12-02T23:59:59\"\n",
    "\n",
    "# # Create directory for JSON pages\n",
    "# input_dir = f'Solana_{start_date}_{end_date}_json_pages'\n",
    "# os.makedirs(input_dir, exist_ok=True)\n",
    "\n",
    "# # Headers\n",
    "# headers = {\n",
    "#     'Content-Type': 'application/json',\n",
    "#     'X-API-KEY': api_key\n",
    "# }\n",
    "\n",
    "# # CSV output file\n",
    "# output_csv = f'Solana_{start_date}-{end_date}_trx.csv'\n",
    "\n",
    "# # CSV fieldnames\n",
    "# fieldnames = [\n",
    "#     'block_timestamp', 'block_height', 'sender_address', 'receiver_address',\n",
    "#     'currency_symbol', 'amount', 'amount_usd', 'transaction_hash', 'external'\n",
    "# ]\n",
    "\n",
    "# # CSV file creation and fieldnames writing\n",
    "# with open(output_csv, 'w', newline='') as csvfile:\n",
    "#     writer = csv.DictWriter(csvfile, fieldnames=fieldnames)\n",
    "#     writer.writeheader()\n",
    "\n",
    "#     # Loop through pages\n",
    "#     page_number = 1\n",
    "#     while True:\n",
    "#         # Format query with parameters\n",
    "#         query = query_template % (network, limit, offset, start_date, end_date)\n",
    "\n",
    "#         # Make API request\n",
    "#         response = requests.post(url, headers=headers, json={'query': query})\n",
    "\n",
    "#         if response.status_code == 200:\n",
    "#             data = response.json()['data']['solana']['transactions']\n",
    "\n",
    "#             # Save JSON to file\n",
    "#             with open(os.path.join(input_dir, f'page_{page_number}.json'), 'w') as json_file:\n",
    "#                 json.dump(data, json_file, indent=4)\n",
    "\n",
    "#             # Write data to CSV\n",
    "#             for transaction in data:\n",
    "#                 row = {\n",
    "#                     'block_timestamp': transaction['block']['timestamp']['time'],\n",
    "#                     'block_height': transaction['block']['height'],\n",
    "#                     'sender_address': transaction['sender']['address'],\n",
    "#                     'receiver_address': transaction['receiver']['address'],\n",
    "#                     'currency_symbol': transaction['currency']['symbol'],\n",
    "#                     'amount': transaction['amount'],\n",
    "#                     'amount_usd': transaction['amount_usd'],\n",
    "#                     'transaction_hash': transaction['transaction']['hash'],\n",
    "#                     'external': transaction['external']\n",
    "#                 }\n",
    "#                 writer.writerow(row)\n",
    "\n",
    "#             # Move to next page\n",
    "#             offset += limit\n",
    "#             page_number += 1\n",
    "\n",
    "#             # If no more data, break the loop\n",
    "#             if len(data) < limit:\n",
    "#                 break\n",
    "\n",
    "#         else:\n",
    "#             print(f'Query failed with status code {response.status_code}')\n",
    "#             print(response.text)\n",
    "#             break\n",
    "\n",
    "# print(f'Data successfully saved to CSV file {output_csv}')\n"
   ]
  },
  {
   "cell_type": "markdown",
   "id": "6c6dbf13-d7d7-4a27-badd-bae66e578335",
   "metadata": {},
   "source": [
    "만개를 처리하는 데 약 20초가 걸리고, 하루 기준 용량이 약 60MB. 이는 일주일이면 400MB가 넘는다. 아래 코드가 약간의 시간이 더 걸리는 것으로 보인다."
   ]
  }
 ],
 "metadata": {
  "kernelspec": {
   "display_name": "Python 3 (ipykernel)",
   "language": "python",
   "name": "python3"
  },
  "language_info": {
   "codemirror_mode": {
    "name": "ipython",
    "version": 3
   },
   "file_extension": ".py",
   "mimetype": "text/x-python",
   "name": "python",
   "nbconvert_exporter": "python",
   "pygments_lexer": "ipython3",
   "version": "3.12.3"
  }
 },
 "nbformat": 4,
 "nbformat_minor": 5
}
