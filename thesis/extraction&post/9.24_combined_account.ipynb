{
 "cells": [
  {
   "cell_type": "code",
   "execution_count": 1,
   "id": "8d244c65-3858-4639-b6a8-e5c3f50ffbf0",
   "metadata": {
    "execution": {
     "iopub.execute_input": "2024-09-24T05:03:34.299841Z",
     "iopub.status.busy": "2024-09-24T05:03:34.298601Z",
     "iopub.status.idle": "2024-09-24T05:03:34.658634Z",
     "shell.execute_reply": "2024-09-24T05:03:34.657825Z",
     "shell.execute_reply.started": "2024-09-24T05:03:34.299777Z"
    }
   },
   "outputs": [],
   "source": [
    "import pandas as pd"
   ]
  },
  {
   "cell_type": "code",
   "execution_count": 2,
   "id": "03867bfb-5d08-4e8a-bc70-aff4fe56b619",
   "metadata": {
    "execution": {
     "iopub.execute_input": "2024-09-24T05:03:34.771068Z",
     "iopub.status.busy": "2024-09-24T05:03:34.770237Z",
     "iopub.status.idle": "2024-09-24T05:03:35.025311Z",
     "shell.execute_reply": "2024-09-24T05:03:35.023899Z",
     "shell.execute_reply.started": "2024-09-24T05:03:34.771014Z"
    }
   },
   "outputs": [
    {
     "name": "stdout",
     "output_type": "stream",
     "text": [
      "9.11_SOL_2020-03-19_2020_12_31_calculate_componentes.csv\n",
      "9.11_SOL_2020-03-26_2020-12-31_centrality.csv\n",
      "9.19_SOL_2020-03-26~2020-12-31_centrality_weight.csv\n",
      "9.24_combined_account.ipynb\n",
      "SOL_2020-03-19_2020-06-30_TRX.csv\n",
      "SOL_2020-07-01_2020-09-30_TRX.csv\n",
      "SOL_2020-10-01_2020-12-31_TRX.csv\n",
      "\u001b[0m\u001b[01;34mpost_work\u001b[0m/\n"
     ]
    }
   ],
   "source": [
    "ls"
   ]
  },
  {
   "cell_type": "code",
   "execution_count": 4,
   "id": "60f8e427-17da-4e07-b7c5-172e25d4bb3c",
   "metadata": {
    "execution": {
     "iopub.execute_input": "2024-09-24T05:02:52.668476Z",
     "iopub.status.busy": "2024-09-24T05:02:52.667648Z",
     "iopub.status.idle": "2024-09-24T05:02:52.694027Z",
     "shell.execute_reply": "2024-09-24T05:02:52.692644Z",
     "shell.execute_reply.started": "2024-09-24T05:02:52.668417Z"
    }
   },
   "outputs": [],
   "source": [
    "df1 = pd.read_csv('9.17_SOL_2024_top_account.csv', index_col = 0)\n",
    "df2 = pd.read_csv('9.19_SOL_2024_top_account_weight.csv', index_col = 0)"
   ]
  },
  {
   "cell_type": "code",
   "execution_count": 5,
   "id": "0a004ae9-59bc-4b0f-9eae-6141452f55ec",
   "metadata": {
    "execution": {
     "iopub.execute_input": "2024-09-24T05:02:53.502954Z",
     "iopub.status.busy": "2024-09-24T05:02:53.502262Z",
     "iopub.status.idle": "2024-09-24T05:02:53.532584Z",
     "shell.execute_reply": "2024-09-24T05:02:53.531269Z",
     "shell.execute_reply.started": "2024-09-24T05:02:53.502888Z"
    }
   },
   "outputs": [
    {
     "data": {
      "text/html": [
       "<div>\n",
       "<style scoped>\n",
       "    .dataframe tbody tr th:only-of-type {\n",
       "        vertical-align: middle;\n",
       "    }\n",
       "\n",
       "    .dataframe tbody tr th {\n",
       "        vertical-align: top;\n",
       "    }\n",
       "\n",
       "    .dataframe thead th {\n",
       "        text-align: right;\n",
       "    }\n",
       "</style>\n",
       "<table border=\"1\" class=\"dataframe\">\n",
       "  <thead>\n",
       "    <tr style=\"text-align: right;\">\n",
       "      <th></th>\n",
       "      <th>0</th>\n",
       "    </tr>\n",
       "  </thead>\n",
       "  <tbody>\n",
       "    <tr>\n",
       "      <th>0</th>\n",
       "      <td>ABvqrPnSJ5YMofUVH2LsfoW4FMN8ST65FZZqxG6ziDd1</td>\n",
       "    </tr>\n",
       "    <tr>\n",
       "      <th>1</th>\n",
       "      <td>DU8xcxsCGKKiyLFd5sgvjtwpYUZBHeoWZeGXrpoF3C4h</td>\n",
       "    </tr>\n",
       "    <tr>\n",
       "      <th>2</th>\n",
       "      <td>Fwojic9QabpJsBuiPCbsUada8antGxPMVDYiZhgg6HT2</td>\n",
       "    </tr>\n",
       "    <tr>\n",
       "      <th>3</th>\n",
       "      <td>B47QjJRX8B5GcNtSjRQ5AXjqaj6hLSJ8KcoRVrix3Fvp</td>\n",
       "    </tr>\n",
       "    <tr>\n",
       "      <th>4</th>\n",
       "      <td>EaUghZfmuhgtZEEwaZwX5EBroz4WyH8VM5NSXi4tam5A</td>\n",
       "    </tr>\n",
       "    <tr>\n",
       "      <th>...</th>\n",
       "      <td>...</td>\n",
       "    </tr>\n",
       "    <tr>\n",
       "      <th>476</th>\n",
       "      <td>mprMBsum5VED44sf3jJkeb59JTFSo9q2cYdmCSNyMX7</td>\n",
       "    </tr>\n",
       "    <tr>\n",
       "      <th>477</th>\n",
       "      <td>2pitsh8AvEVDwGUu3ADqM8MsNJQGLdH7fftcTrRgL4D4</td>\n",
       "    </tr>\n",
       "    <tr>\n",
       "      <th>478</th>\n",
       "      <td>88eydb1737nCKn418s3Pjg9fxEyHPAejVYR4cgaHxT6z</td>\n",
       "    </tr>\n",
       "    <tr>\n",
       "      <th>479</th>\n",
       "      <td>DCZPFdbaumPesuEbFJVp2wQzevoGNyqyiTQ4BnimQVte</td>\n",
       "    </tr>\n",
       "    <tr>\n",
       "      <th>480</th>\n",
       "      <td>metTJbdunofjZYXb9nWh78DKs3iCQNSptjVxim5XTSu</td>\n",
       "    </tr>\n",
       "  </tbody>\n",
       "</table>\n",
       "<p>481 rows × 1 columns</p>\n",
       "</div>"
      ],
      "text/plain": [
       "                                                0\n",
       "0    ABvqrPnSJ5YMofUVH2LsfoW4FMN8ST65FZZqxG6ziDd1\n",
       "1    DU8xcxsCGKKiyLFd5sgvjtwpYUZBHeoWZeGXrpoF3C4h\n",
       "2    Fwojic9QabpJsBuiPCbsUada8antGxPMVDYiZhgg6HT2\n",
       "3    B47QjJRX8B5GcNtSjRQ5AXjqaj6hLSJ8KcoRVrix3Fvp\n",
       "4    EaUghZfmuhgtZEEwaZwX5EBroz4WyH8VM5NSXi4tam5A\n",
       "..                                            ...\n",
       "476   mprMBsum5VED44sf3jJkeb59JTFSo9q2cYdmCSNyMX7\n",
       "477  2pitsh8AvEVDwGUu3ADqM8MsNJQGLdH7fftcTrRgL4D4\n",
       "478  88eydb1737nCKn418s3Pjg9fxEyHPAejVYR4cgaHxT6z\n",
       "479  DCZPFdbaumPesuEbFJVp2wQzevoGNyqyiTQ4BnimQVte\n",
       "480   metTJbdunofjZYXb9nWh78DKs3iCQNSptjVxim5XTSu\n",
       "\n",
       "[481 rows x 1 columns]"
      ]
     },
     "execution_count": 5,
     "metadata": {},
     "output_type": "execute_result"
    }
   ],
   "source": [
    "df1"
   ]
  },
  {
   "cell_type": "code",
   "execution_count": 6,
   "id": "9c059004-de1c-4693-9775-58b5a14aa977",
   "metadata": {
    "execution": {
     "iopub.execute_input": "2024-09-24T05:02:54.109821Z",
     "iopub.status.busy": "2024-09-24T05:02:54.109123Z",
     "iopub.status.idle": "2024-09-24T05:02:54.125171Z",
     "shell.execute_reply": "2024-09-24T05:02:54.124099Z",
     "shell.execute_reply.started": "2024-09-24T05:02:54.109769Z"
    }
   },
   "outputs": [
    {
     "data": {
      "text/html": [
       "<div>\n",
       "<style scoped>\n",
       "    .dataframe tbody tr th:only-of-type {\n",
       "        vertical-align: middle;\n",
       "    }\n",
       "\n",
       "    .dataframe tbody tr th {\n",
       "        vertical-align: top;\n",
       "    }\n",
       "\n",
       "    .dataframe thead th {\n",
       "        text-align: right;\n",
       "    }\n",
       "</style>\n",
       "<table border=\"1\" class=\"dataframe\">\n",
       "  <thead>\n",
       "    <tr style=\"text-align: right;\">\n",
       "      <th></th>\n",
       "      <th>0</th>\n",
       "    </tr>\n",
       "  </thead>\n",
       "  <tbody>\n",
       "    <tr>\n",
       "      <th>0</th>\n",
       "      <td>5Mobiy4U8xtesXXcaZW4UGXTRxR6cpzsj68p8xFsiFD4</td>\n",
       "    </tr>\n",
       "    <tr>\n",
       "      <th>1</th>\n",
       "      <td>F28QmzM2L4MtygpCG5XurV8YX6Ne6bCva44CkKBBLCjN</td>\n",
       "    </tr>\n",
       "    <tr>\n",
       "      <th>2</th>\n",
       "      <td>42brAgAVNzMBP7aaktPvAmBSPEkehnFQejiZc53EpJFd</td>\n",
       "    </tr>\n",
       "    <tr>\n",
       "      <th>3</th>\n",
       "      <td>5XM9HgYFpjfzWirdMjzyYtZ3ymoDNmi2JBZUpMt8w9Zn</td>\n",
       "    </tr>\n",
       "    <tr>\n",
       "      <th>4</th>\n",
       "      <td>B7N3XQhksX7aXnRZ8A1jNqNM5n3rev33oXVTfB6AwZNM</td>\n",
       "    </tr>\n",
       "    <tr>\n",
       "      <th>...</th>\n",
       "      <td>...</td>\n",
       "    </tr>\n",
       "    <tr>\n",
       "      <th>712</th>\n",
       "      <td>J5HrRJJ6yPoNSt3dkd6Qb7CSvq1dWihwrBYA6eGCAYvs</td>\n",
       "    </tr>\n",
       "    <tr>\n",
       "      <th>713</th>\n",
       "      <td>DcVMRxw4Fgrmr5rkvaHHDaAP9SGbr8qxKH8s21wFrHY2</td>\n",
       "    </tr>\n",
       "    <tr>\n",
       "      <th>714</th>\n",
       "      <td>J4LqsV6WjJ3YAtvVBHyg5UUGo6mVDDnTrkAUCgm7AiXi</td>\n",
       "    </tr>\n",
       "    <tr>\n",
       "      <th>715</th>\n",
       "      <td>HexkqtFMmBJXUHco9KoXKocQcLSgfCf2Hdz1Qa3jcSEA</td>\n",
       "    </tr>\n",
       "    <tr>\n",
       "      <th>716</th>\n",
       "      <td>2Puz8KpjW4UVesWdCbUsrrUjYiw9DCios9vjTyo7TJKz</td>\n",
       "    </tr>\n",
       "  </tbody>\n",
       "</table>\n",
       "<p>717 rows × 1 columns</p>\n",
       "</div>"
      ],
      "text/plain": [
       "                                                0\n",
       "0    5Mobiy4U8xtesXXcaZW4UGXTRxR6cpzsj68p8xFsiFD4\n",
       "1    F28QmzM2L4MtygpCG5XurV8YX6Ne6bCva44CkKBBLCjN\n",
       "2    42brAgAVNzMBP7aaktPvAmBSPEkehnFQejiZc53EpJFd\n",
       "3    5XM9HgYFpjfzWirdMjzyYtZ3ymoDNmi2JBZUpMt8w9Zn\n",
       "4    B7N3XQhksX7aXnRZ8A1jNqNM5n3rev33oXVTfB6AwZNM\n",
       "..                                            ...\n",
       "712  J5HrRJJ6yPoNSt3dkd6Qb7CSvq1dWihwrBYA6eGCAYvs\n",
       "713  DcVMRxw4Fgrmr5rkvaHHDaAP9SGbr8qxKH8s21wFrHY2\n",
       "714  J4LqsV6WjJ3YAtvVBHyg5UUGo6mVDDnTrkAUCgm7AiXi\n",
       "715  HexkqtFMmBJXUHco9KoXKocQcLSgfCf2Hdz1Qa3jcSEA\n",
       "716  2Puz8KpjW4UVesWdCbUsrrUjYiw9DCios9vjTyo7TJKz\n",
       "\n",
       "[717 rows x 1 columns]"
      ]
     },
     "execution_count": 6,
     "metadata": {},
     "output_type": "execute_result"
    }
   ],
   "source": [
    "df2"
   ]
  },
  {
   "cell_type": "code",
   "execution_count": 8,
   "id": "8ecdd587-695f-4eed-a019-e6575061e1ce",
   "metadata": {
    "execution": {
     "iopub.execute_input": "2024-09-20T00:16:43.521030Z",
     "iopub.status.busy": "2024-09-20T00:16:43.520357Z",
     "iopub.status.idle": "2024-09-20T00:16:43.527601Z",
     "shell.execute_reply": "2024-09-20T00:16:43.526373Z",
     "shell.execute_reply.started": "2024-09-20T00:16:43.520980Z"
    }
   },
   "outputs": [],
   "source": [
    "ac1 = list(df1['0'])\n",
    "ac2 = list(df2['0'])"
   ]
  },
  {
   "cell_type": "code",
   "execution_count": 9,
   "id": "aa9bee06-359c-4373-afb7-df812714615f",
   "metadata": {
    "execution": {
     "iopub.execute_input": "2024-09-20T00:16:43.915845Z",
     "iopub.status.busy": "2024-09-20T00:16:43.915243Z",
     "iopub.status.idle": "2024-09-20T00:16:43.921302Z",
     "shell.execute_reply": "2024-09-20T00:16:43.920278Z",
     "shell.execute_reply.started": "2024-09-20T00:16:43.915804Z"
    }
   },
   "outputs": [],
   "source": [
    "ac1.extend(ac2)"
   ]
  },
  {
   "cell_type": "code",
   "execution_count": 8,
   "id": "6f4b26b4-0ee4-4341-af7b-a78af497e133",
   "metadata": {
    "execution": {
     "iopub.execute_input": "2024-09-24T05:03:04.261522Z",
     "iopub.status.busy": "2024-09-24T05:03:04.260201Z",
     "iopub.status.idle": "2024-09-24T05:03:04.276812Z",
     "shell.execute_reply": "2024-09-24T05:03:04.275680Z",
     "shell.execute_reply.started": "2024-09-24T05:03:04.261456Z"
    }
   },
   "outputs": [
    {
     "data": {
      "text/html": [
       "<div>\n",
       "<style scoped>\n",
       "    .dataframe tbody tr th:only-of-type {\n",
       "        vertical-align: middle;\n",
       "    }\n",
       "\n",
       "    .dataframe tbody tr th {\n",
       "        vertical-align: top;\n",
       "    }\n",
       "\n",
       "    .dataframe thead th {\n",
       "        text-align: right;\n",
       "    }\n",
       "</style>\n",
       "<table border=\"1\" class=\"dataframe\">\n",
       "  <thead>\n",
       "    <tr style=\"text-align: right;\">\n",
       "      <th></th>\n",
       "      <th>0</th>\n",
       "    </tr>\n",
       "  </thead>\n",
       "  <tbody>\n",
       "    <tr>\n",
       "      <th>0</th>\n",
       "      <td>ABvqrPnSJ5YMofUVH2LsfoW4FMN8ST65FZZqxG6ziDd1</td>\n",
       "    </tr>\n",
       "    <tr>\n",
       "      <th>1</th>\n",
       "      <td>DU8xcxsCGKKiyLFd5sgvjtwpYUZBHeoWZeGXrpoF3C4h</td>\n",
       "    </tr>\n",
       "    <tr>\n",
       "      <th>2</th>\n",
       "      <td>Fwojic9QabpJsBuiPCbsUada8antGxPMVDYiZhgg6HT2</td>\n",
       "    </tr>\n",
       "    <tr>\n",
       "      <th>3</th>\n",
       "      <td>B47QjJRX8B5GcNtSjRQ5AXjqaj6hLSJ8KcoRVrix3Fvp</td>\n",
       "    </tr>\n",
       "    <tr>\n",
       "      <th>4</th>\n",
       "      <td>EaUghZfmuhgtZEEwaZwX5EBroz4WyH8VM5NSXi4tam5A</td>\n",
       "    </tr>\n",
       "    <tr>\n",
       "      <th>...</th>\n",
       "      <td>...</td>\n",
       "    </tr>\n",
       "    <tr>\n",
       "      <th>712</th>\n",
       "      <td>J5HrRJJ6yPoNSt3dkd6Qb7CSvq1dWihwrBYA6eGCAYvs</td>\n",
       "    </tr>\n",
       "    <tr>\n",
       "      <th>713</th>\n",
       "      <td>DcVMRxw4Fgrmr5rkvaHHDaAP9SGbr8qxKH8s21wFrHY2</td>\n",
       "    </tr>\n",
       "    <tr>\n",
       "      <th>714</th>\n",
       "      <td>J4LqsV6WjJ3YAtvVBHyg5UUGo6mVDDnTrkAUCgm7AiXi</td>\n",
       "    </tr>\n",
       "    <tr>\n",
       "      <th>715</th>\n",
       "      <td>HexkqtFMmBJXUHco9KoXKocQcLSgfCf2Hdz1Qa3jcSEA</td>\n",
       "    </tr>\n",
       "    <tr>\n",
       "      <th>716</th>\n",
       "      <td>2Puz8KpjW4UVesWdCbUsrrUjYiw9DCios9vjTyo7TJKz</td>\n",
       "    </tr>\n",
       "  </tbody>\n",
       "</table>\n",
       "<p>1198 rows × 1 columns</p>\n",
       "</div>"
      ],
      "text/plain": [
       "                                                0\n",
       "0    ABvqrPnSJ5YMofUVH2LsfoW4FMN8ST65FZZqxG6ziDd1\n",
       "1    DU8xcxsCGKKiyLFd5sgvjtwpYUZBHeoWZeGXrpoF3C4h\n",
       "2    Fwojic9QabpJsBuiPCbsUada8antGxPMVDYiZhgg6HT2\n",
       "3    B47QjJRX8B5GcNtSjRQ5AXjqaj6hLSJ8KcoRVrix3Fvp\n",
       "4    EaUghZfmuhgtZEEwaZwX5EBroz4WyH8VM5NSXi4tam5A\n",
       "..                                            ...\n",
       "712  J5HrRJJ6yPoNSt3dkd6Qb7CSvq1dWihwrBYA6eGCAYvs\n",
       "713  DcVMRxw4Fgrmr5rkvaHHDaAP9SGbr8qxKH8s21wFrHY2\n",
       "714  J4LqsV6WjJ3YAtvVBHyg5UUGo6mVDDnTrkAUCgm7AiXi\n",
       "715  HexkqtFMmBJXUHco9KoXKocQcLSgfCf2Hdz1Qa3jcSEA\n",
       "716  2Puz8KpjW4UVesWdCbUsrrUjYiw9DCios9vjTyo7TJKz\n",
       "\n",
       "[1198 rows x 1 columns]"
      ]
     },
     "execution_count": 8,
     "metadata": {},
     "output_type": "execute_result"
    }
   ],
   "source": [
    "df = pd.concat([df1,df2])\n",
    "df"
   ]
  },
  {
   "cell_type": "code",
   "execution_count": 9,
   "id": "cdc430c5-892f-42b5-a4a0-5b99e01c89bd",
   "metadata": {
    "execution": {
     "iopub.execute_input": "2024-09-24T05:03:06.130429Z",
     "iopub.status.busy": "2024-09-24T05:03:06.129743Z",
     "iopub.status.idle": "2024-09-24T05:03:06.137784Z",
     "shell.execute_reply": "2024-09-24T05:03:06.136676Z",
     "shell.execute_reply.started": "2024-09-24T05:03:06.130378Z"
    }
   },
   "outputs": [],
   "source": [
    "df = df.drop_duplicates()"
   ]
  },
  {
   "cell_type": "code",
   "execution_count": 10,
   "id": "e7868452-09c3-4272-be1d-5e8797c8e8d9",
   "metadata": {
    "execution": {
     "iopub.execute_input": "2024-09-24T05:03:08.424728Z",
     "iopub.status.busy": "2024-09-24T05:03:08.424039Z",
     "iopub.status.idle": "2024-09-24T05:03:08.439112Z",
     "shell.execute_reply": "2024-09-24T05:03:08.438119Z",
     "shell.execute_reply.started": "2024-09-24T05:03:08.424678Z"
    }
   },
   "outputs": [
    {
     "data": {
      "text/html": [
       "<div>\n",
       "<style scoped>\n",
       "    .dataframe tbody tr th:only-of-type {\n",
       "        vertical-align: middle;\n",
       "    }\n",
       "\n",
       "    .dataframe tbody tr th {\n",
       "        vertical-align: top;\n",
       "    }\n",
       "\n",
       "    .dataframe thead th {\n",
       "        text-align: right;\n",
       "    }\n",
       "</style>\n",
       "<table border=\"1\" class=\"dataframe\">\n",
       "  <thead>\n",
       "    <tr style=\"text-align: right;\">\n",
       "      <th></th>\n",
       "      <th>0</th>\n",
       "    </tr>\n",
       "  </thead>\n",
       "  <tbody>\n",
       "    <tr>\n",
       "      <th>0</th>\n",
       "      <td>ABvqrPnSJ5YMofUVH2LsfoW4FMN8ST65FZZqxG6ziDd1</td>\n",
       "    </tr>\n",
       "    <tr>\n",
       "      <th>1</th>\n",
       "      <td>DU8xcxsCGKKiyLFd5sgvjtwpYUZBHeoWZeGXrpoF3C4h</td>\n",
       "    </tr>\n",
       "    <tr>\n",
       "      <th>2</th>\n",
       "      <td>Fwojic9QabpJsBuiPCbsUada8antGxPMVDYiZhgg6HT2</td>\n",
       "    </tr>\n",
       "    <tr>\n",
       "      <th>3</th>\n",
       "      <td>B47QjJRX8B5GcNtSjRQ5AXjqaj6hLSJ8KcoRVrix3Fvp</td>\n",
       "    </tr>\n",
       "    <tr>\n",
       "      <th>4</th>\n",
       "      <td>EaUghZfmuhgtZEEwaZwX5EBroz4WyH8VM5NSXi4tam5A</td>\n",
       "    </tr>\n",
       "    <tr>\n",
       "      <th>...</th>\n",
       "      <td>...</td>\n",
       "    </tr>\n",
       "    <tr>\n",
       "      <th>767</th>\n",
       "      <td>DPowwYPEo8w1x12bucpcqr5aStiAyygfQuqJRix5LYSi</td>\n",
       "    </tr>\n",
       "    <tr>\n",
       "      <th>768</th>\n",
       "      <td>J5HrRJJ6yPoNSt3dkd6Qb7CSvq1dWihwrBYA6eGCAYvs</td>\n",
       "    </tr>\n",
       "    <tr>\n",
       "      <th>769</th>\n",
       "      <td>DcVMRxw4Fgrmr5rkvaHHDaAP9SGbr8qxKH8s21wFrHY2</td>\n",
       "    </tr>\n",
       "    <tr>\n",
       "      <th>770</th>\n",
       "      <td>HexkqtFMmBJXUHco9KoXKocQcLSgfCf2Hdz1Qa3jcSEA</td>\n",
       "    </tr>\n",
       "    <tr>\n",
       "      <th>771</th>\n",
       "      <td>2Puz8KpjW4UVesWdCbUsrrUjYiw9DCios9vjTyo7TJKz</td>\n",
       "    </tr>\n",
       "  </tbody>\n",
       "</table>\n",
       "<p>772 rows × 1 columns</p>\n",
       "</div>"
      ],
      "text/plain": [
       "                                                0\n",
       "0    ABvqrPnSJ5YMofUVH2LsfoW4FMN8ST65FZZqxG6ziDd1\n",
       "1    DU8xcxsCGKKiyLFd5sgvjtwpYUZBHeoWZeGXrpoF3C4h\n",
       "2    Fwojic9QabpJsBuiPCbsUada8antGxPMVDYiZhgg6HT2\n",
       "3    B47QjJRX8B5GcNtSjRQ5AXjqaj6hLSJ8KcoRVrix3Fvp\n",
       "4    EaUghZfmuhgtZEEwaZwX5EBroz4WyH8VM5NSXi4tam5A\n",
       "..                                            ...\n",
       "767  DPowwYPEo8w1x12bucpcqr5aStiAyygfQuqJRix5LYSi\n",
       "768  J5HrRJJ6yPoNSt3dkd6Qb7CSvq1dWihwrBYA6eGCAYvs\n",
       "769  DcVMRxw4Fgrmr5rkvaHHDaAP9SGbr8qxKH8s21wFrHY2\n",
       "770  HexkqtFMmBJXUHco9KoXKocQcLSgfCf2Hdz1Qa3jcSEA\n",
       "771  2Puz8KpjW4UVesWdCbUsrrUjYiw9DCios9vjTyo7TJKz\n",
       "\n",
       "[772 rows x 1 columns]"
      ]
     },
     "execution_count": 10,
     "metadata": {},
     "output_type": "execute_result"
    }
   ],
   "source": [
    "df.reset_index(drop = True)"
   ]
  },
  {
   "cell_type": "code",
   "execution_count": 11,
   "id": "451c67dc-a0d0-4108-9203-c66873cb289d",
   "metadata": {
    "execution": {
     "iopub.execute_input": "2024-09-24T05:03:18.081778Z",
     "iopub.status.busy": "2024-09-24T05:03:18.081091Z",
     "iopub.status.idle": "2024-09-24T05:03:18.101729Z",
     "shell.execute_reply": "2024-09-24T05:03:18.100507Z",
     "shell.execute_reply.started": "2024-09-24T05:03:18.081726Z"
    }
   },
   "outputs": [],
   "source": [
    "df.to_csv('9.24_SOL_2024_top_account_combined.csv')"
   ]
  },
  {
   "cell_type": "code",
   "execution_count": null,
   "id": "bef3b68e-b29d-4689-8b4d-12f76bca4e75",
   "metadata": {},
   "outputs": [],
   "source": []
  }
 ],
 "metadata": {
  "kernelspec": {
   "display_name": "Python 3 (ipykernel)",
   "language": "python",
   "name": "python3"
  },
  "language_info": {
   "codemirror_mode": {
    "name": "ipython",
    "version": 3
   },
   "file_extension": ".py",
   "mimetype": "text/x-python",
   "name": "python",
   "nbconvert_exporter": "python",
   "pygments_lexer": "ipython3",
   "version": "3.8.10"
  }
 },
 "nbformat": 4,
 "nbformat_minor": 5
}
