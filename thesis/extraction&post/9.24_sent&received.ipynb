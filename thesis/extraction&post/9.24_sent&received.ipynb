{
 "cells": [
  {
   "cell_type": "code",
   "execution_count": 1,
   "id": "5bc965cc-cf91-4dd5-beda-38c17af8f4fd",
   "metadata": {
    "execution": {
     "iopub.execute_input": "2024-09-24T08:30:33.826646Z",
     "iopub.status.busy": "2024-09-24T08:30:33.826207Z",
     "iopub.status.idle": "2024-09-24T08:30:34.204140Z",
     "shell.execute_reply": "2024-09-24T08:30:34.202960Z",
     "shell.execute_reply.started": "2024-09-24T08:30:33.826612Z"
    }
   },
   "outputs": [],
   "source": [
    "import pandas as pd\n",
    "import os\n",
    "import numpy as np"
   ]
  },
  {
   "cell_type": "code",
   "execution_count": 2,
   "id": "e4107c76-dc11-4ea3-88fa-68dcbee09ad4",
   "metadata": {
    "execution": {
     "iopub.execute_input": "2024-09-24T08:30:34.576172Z",
     "iopub.status.busy": "2024-09-24T08:30:34.575373Z",
     "iopub.status.idle": "2024-09-24T08:30:34.836699Z",
     "shell.execute_reply": "2024-09-24T08:30:34.835303Z",
     "shell.execute_reply.started": "2024-09-24T08:30:34.576118Z"
    }
   },
   "outputs": [
    {
     "name": "stdout",
     "output_type": "stream",
     "text": [
      " 9.11_SOL_2020-03-19_2020_12_31_calculate_componentes.csv\n",
      " 9.11_SOL_2020-03-26_2020-12-31_centrality.csv\n",
      " 9.19_SOL_2020-03-26~2020-12-31_centrality_weight.csv\n",
      " 9.24_SOL_2020_top_account.csv\n",
      " 9.24_SOL_2020_top_account_combined.csv\n",
      " 9.24_SOL_2020_top_account_weight.csv\n",
      "'9.24_SOL_sent&received_account.csv'\n",
      " 9.24_combined_account.ipynb\n",
      "'9.24_sent&received.ipynb'\n",
      " SOL_2020-03-19_2020-06-30_TRX.csv\n",
      " SOL_2020-07-01_2020-09-30_TRX.csv\n",
      " SOL_2020-10-01_2020-12-31_TRX.csv\n",
      " \u001b[0m\u001b[01;34mpost_work\u001b[0m/\n"
     ]
    }
   ],
   "source": [
    "ls"
   ]
  },
  {
   "cell_type": "code",
   "execution_count": 3,
   "id": "c847f93f-be16-47e5-ad41-96ac4c7da994",
   "metadata": {
    "execution": {
     "iopub.execute_input": "2024-09-24T08:30:34.952487Z",
     "iopub.status.busy": "2024-09-24T08:30:34.951689Z",
     "iopub.status.idle": "2024-09-24T08:30:34.968540Z",
     "shell.execute_reply": "2024-09-24T08:30:34.967303Z",
     "shell.execute_reply.started": "2024-09-24T08:30:34.952428Z"
    }
   },
   "outputs": [
    {
     "data": {
      "text/plain": [
       "['SOL_2020-03-19_2020-06-30_TRX.csv',\n",
       " 'SOL_2020-07-01_2020-09-30_TRX.csv',\n",
       " 'SOL_2020-10-01_2020-12-31_TRX.csv']"
      ]
     },
     "execution_count": 3,
     "metadata": {},
     "output_type": "execute_result"
    }
   ],
   "source": [
    "file_list = os.listdir()\n",
    "file_list = [file for file in file_list if 'TRX.csv' in file]\n",
    "file_list.sort()\n",
    "file_list"
   ]
  },
  {
   "cell_type": "markdown",
   "id": "99265f51-2f5a-4c1a-8a39-97bc82078028",
   "metadata": {},
   "source": [
    "1. sender와 receiver을 확인. 기존에 list에 없으면 추가. 그리고 각각의 보냄/받음에 해당 금액을 더함\n",
    "2. 이걸 모든 파일을 반복함."
   ]
  },
  {
   "cell_type": "code",
   "execution_count": 5,
   "id": "d38dd94b-927d-42fa-8033-1b541acc9bc2",
   "metadata": {
    "execution": {
     "iopub.execute_input": "2024-09-24T07:49:27.879441Z",
     "iopub.status.busy": "2024-09-24T07:49:27.878276Z",
     "iopub.status.idle": "2024-09-24T07:49:27.930122Z",
     "shell.execute_reply": "2024-09-24T07:49:27.929419Z",
     "shell.execute_reply.started": "2024-09-24T07:49:27.879375Z"
    }
   },
   "outputs": [],
   "source": [
    "file = pd.read_csv('SOL_2020-03-19_2020-06-30_TRX.csv')"
   ]
  },
  {
   "cell_type": "code",
   "execution_count": 19,
   "id": "37707fb0-ce90-4bc3-9b96-950b873ad3ea",
   "metadata": {
    "execution": {
     "iopub.execute_input": "2024-09-24T07:54:29.260507Z",
     "iopub.status.busy": "2024-09-24T07:54:29.260012Z",
     "iopub.status.idle": "2024-09-24T07:54:29.278319Z",
     "shell.execute_reply": "2024-09-24T07:54:29.277315Z",
     "shell.execute_reply.started": "2024-09-24T07:54:29.260472Z"
    }
   },
   "outputs": [
    {
     "data": {
      "text/html": [
       "<div>\n",
       "<style scoped>\n",
       "    .dataframe tbody tr th:only-of-type {\n",
       "        vertical-align: middle;\n",
       "    }\n",
       "\n",
       "    .dataframe tbody tr th {\n",
       "        vertical-align: top;\n",
       "    }\n",
       "\n",
       "    .dataframe thead th {\n",
       "        text-align: right;\n",
       "    }\n",
       "</style>\n",
       "<table border=\"1\" class=\"dataframe\">\n",
       "  <thead>\n",
       "    <tr style=\"text-align: right;\">\n",
       "      <th></th>\n",
       "      <th>timestamp</th>\n",
       "      <th>block_height</th>\n",
       "      <th>sender_address</th>\n",
       "      <th>receiver_address</th>\n",
       "      <th>amount</th>\n",
       "      <th>trx_hash</th>\n",
       "      <th>trx_gasPrice</th>\n",
       "    </tr>\n",
       "  </thead>\n",
       "  <tbody>\n",
       "    <tr>\n",
       "      <th>0</th>\n",
       "      <td>2020-03-26 09:12:27</td>\n",
       "      <td>1451160</td>\n",
       "      <td>APnSR52EC1eH676m7qTBHUJ1nrGpHYpV7XKPxgRDD8gX</td>\n",
       "      <td>C7C8odR8oashR5Feyrq2tJKaXL18id1dSj2zbkDGL2C2</td>\n",
       "      <td>4000000.000</td>\n",
       "      <td>6YSucrDaHfnFxAwVTsPU7uMsyzTrphd2ckUDApzgjR5S</td>\n",
       "      <td>0.000000</td>\n",
       "    </tr>\n",
       "    <tr>\n",
       "      <th>1</th>\n",
       "      <td>2020-03-28 07:04:21</td>\n",
       "      <td>1826749</td>\n",
       "      <td>APnSR52EC1eH676m7qTBHUJ1nrGpHYpV7XKPxgRDD8gX</td>\n",
       "      <td>62SHW5ZuPpg6GxdbQyrbhdDfZu5dHH3MHuJko1KwU9f3</td>\n",
       "      <td>499.000</td>\n",
       "      <td>6dpM3w58LQb7c4RCpzXFnDWajtrxjR2AxCqi4h5YJCgd</td>\n",
       "      <td>0.000000</td>\n",
       "    </tr>\n",
       "    <tr>\n",
       "      <th>2</th>\n",
       "      <td>2020-03-28 08:05:28</td>\n",
       "      <td>1835092</td>\n",
       "      <td>C7C8odR8oashR5Feyrq2tJKaXL18id1dSj2zbkDGL2C2</td>\n",
       "      <td>nCN1wrDwLYg3zBZ8DbDt6dDHJAtWk6Ms1VK5neZ1fQt</td>\n",
       "      <td>499.000</td>\n",
       "      <td>Bc2JXbFcPNQKqdVDiByBmfq8iqV2aSDm6TaZincVjxKR</td>\n",
       "      <td>0.000000</td>\n",
       "    </tr>\n",
       "    <tr>\n",
       "      <th>3</th>\n",
       "      <td>2020-03-28 08:07:16</td>\n",
       "      <td>1835337</td>\n",
       "      <td>C7C8odR8oashR5Feyrq2tJKaXL18id1dSj2zbkDGL2C2</td>\n",
       "      <td>Mc5XB47H3DKJHym5RLa9mPzWv5snERsF3KNv5AauXK8</td>\n",
       "      <td>1000.000</td>\n",
       "      <td>7EmYeLWxeQRjvsAo7QHdpqxLRvbcTHvnpo3oEzyd8fX5</td>\n",
       "      <td>0.000000</td>\n",
       "    </tr>\n",
       "    <tr>\n",
       "      <th>4</th>\n",
       "      <td>2020-03-29 00:38:32</td>\n",
       "      <td>1970628</td>\n",
       "      <td>7bEc4uCz4mECXwynU5iR5Xr5A8tbWJ5Nyx7YWfvUmaZE</td>\n",
       "      <td>5zJzNX9vSojggkc99KfjrTidPvccHrWZU4XRPRebBrc1</td>\n",
       "      <td>50000.000</td>\n",
       "      <td>91URXJEMoc5B9oRuqyr72EKHpfhRBUUL9jqinN8Lbcmj</td>\n",
       "      <td>0.000000</td>\n",
       "    </tr>\n",
       "    <tr>\n",
       "      <th>...</th>\n",
       "      <td>...</td>\n",
       "      <td>...</td>\n",
       "      <td>...</td>\n",
       "      <td>...</td>\n",
       "      <td>...</td>\n",
       "      <td>...</td>\n",
       "      <td>...</td>\n",
       "    </tr>\n",
       "    <tr>\n",
       "      <th>8204</th>\n",
       "      <td>2020-06-30 15:23:35</td>\n",
       "      <td>20369364</td>\n",
       "      <td>2ojv9BAiHUrvsm9gxDe7fJSzbNZSJcxZvf8dqmWGHG8S</td>\n",
       "      <td>DLrkCb49DACUEjfQZmZnUDScW56r778xw3PX9QMQX3K7</td>\n",
       "      <td>1560.990</td>\n",
       "      <td>DfG6AfshCJ4ByUwkiX6jLvptnCnwiWnD7cXx2hCrnjLW</td>\n",
       "      <td>0.000005</td>\n",
       "    </tr>\n",
       "    <tr>\n",
       "      <th>8205</th>\n",
       "      <td>2020-06-30 19:59:57</td>\n",
       "      <td>20407085</td>\n",
       "      <td>2ojv9BAiHUrvsm9gxDe7fJSzbNZSJcxZvf8dqmWGHG8S</td>\n",
       "      <td>9CbD6UM5ZK4Gs4w93HvmSRqBh2Cp2hYiBb5e1zVzNSAE</td>\n",
       "      <td>125.867</td>\n",
       "      <td>cWHk2qVEmaowJffNwvgEsY3Pw6DmaiQuJwHRvTT4fL9</td>\n",
       "      <td>0.000005</td>\n",
       "    </tr>\n",
       "    <tr>\n",
       "      <th>8206</th>\n",
       "      <td>2020-06-30 19:59:57</td>\n",
       "      <td>20407085</td>\n",
       "      <td>2ojv9BAiHUrvsm9gxDe7fJSzbNZSJcxZvf8dqmWGHG8S</td>\n",
       "      <td>9CbD6UM5ZK4Gs4w93HvmSRqBh2Cp2hYiBb5e1zVzNSAE</td>\n",
       "      <td>125.867</td>\n",
       "      <td>cWHk2qVEmaowJffNwvgEsY3Pw6DmaiQuJwHRvTT4fL9</td>\n",
       "      <td>0.000005</td>\n",
       "    </tr>\n",
       "    <tr>\n",
       "      <th>8207</th>\n",
       "      <td>2020-06-30 21:31:13</td>\n",
       "      <td>20419541</td>\n",
       "      <td>2ojv9BAiHUrvsm9gxDe7fJSzbNZSJcxZvf8dqmWGHG8S</td>\n",
       "      <td>9aKf4iabKen94fWJQozZKvmZ6rjdRvQYRFfqy8TnU3JR</td>\n",
       "      <td>499.990</td>\n",
       "      <td>DgJJjaQbWFLQt9S7m2AtSaG2pRRmhcewZTo9cSKQA95C</td>\n",
       "      <td>0.000005</td>\n",
       "    </tr>\n",
       "    <tr>\n",
       "      <th>8208</th>\n",
       "      <td>2020-06-30 21:31:13</td>\n",
       "      <td>20419541</td>\n",
       "      <td>2ojv9BAiHUrvsm9gxDe7fJSzbNZSJcxZvf8dqmWGHG8S</td>\n",
       "      <td>9aKf4iabKen94fWJQozZKvmZ6rjdRvQYRFfqy8TnU3JR</td>\n",
       "      <td>499.990</td>\n",
       "      <td>DgJJjaQbWFLQt9S7m2AtSaG2pRRmhcewZTo9cSKQA95C</td>\n",
       "      <td>0.000005</td>\n",
       "    </tr>\n",
       "  </tbody>\n",
       "</table>\n",
       "<p>8209 rows × 7 columns</p>\n",
       "</div>"
      ],
      "text/plain": [
       "                timestamp  block_height  \\\n",
       "0     2020-03-26 09:12:27       1451160   \n",
       "1     2020-03-28 07:04:21       1826749   \n",
       "2     2020-03-28 08:05:28       1835092   \n",
       "3     2020-03-28 08:07:16       1835337   \n",
       "4     2020-03-29 00:38:32       1970628   \n",
       "...                   ...           ...   \n",
       "8204  2020-06-30 15:23:35      20369364   \n",
       "8205  2020-06-30 19:59:57      20407085   \n",
       "8206  2020-06-30 19:59:57      20407085   \n",
       "8207  2020-06-30 21:31:13      20419541   \n",
       "8208  2020-06-30 21:31:13      20419541   \n",
       "\n",
       "                                    sender_address  \\\n",
       "0     APnSR52EC1eH676m7qTBHUJ1nrGpHYpV7XKPxgRDD8gX   \n",
       "1     APnSR52EC1eH676m7qTBHUJ1nrGpHYpV7XKPxgRDD8gX   \n",
       "2     C7C8odR8oashR5Feyrq2tJKaXL18id1dSj2zbkDGL2C2   \n",
       "3     C7C8odR8oashR5Feyrq2tJKaXL18id1dSj2zbkDGL2C2   \n",
       "4     7bEc4uCz4mECXwynU5iR5Xr5A8tbWJ5Nyx7YWfvUmaZE   \n",
       "...                                            ...   \n",
       "8204  2ojv9BAiHUrvsm9gxDe7fJSzbNZSJcxZvf8dqmWGHG8S   \n",
       "8205  2ojv9BAiHUrvsm9gxDe7fJSzbNZSJcxZvf8dqmWGHG8S   \n",
       "8206  2ojv9BAiHUrvsm9gxDe7fJSzbNZSJcxZvf8dqmWGHG8S   \n",
       "8207  2ojv9BAiHUrvsm9gxDe7fJSzbNZSJcxZvf8dqmWGHG8S   \n",
       "8208  2ojv9BAiHUrvsm9gxDe7fJSzbNZSJcxZvf8dqmWGHG8S   \n",
       "\n",
       "                                  receiver_address       amount  \\\n",
       "0     C7C8odR8oashR5Feyrq2tJKaXL18id1dSj2zbkDGL2C2  4000000.000   \n",
       "1     62SHW5ZuPpg6GxdbQyrbhdDfZu5dHH3MHuJko1KwU9f3      499.000   \n",
       "2      nCN1wrDwLYg3zBZ8DbDt6dDHJAtWk6Ms1VK5neZ1fQt      499.000   \n",
       "3      Mc5XB47H3DKJHym5RLa9mPzWv5snERsF3KNv5AauXK8     1000.000   \n",
       "4     5zJzNX9vSojggkc99KfjrTidPvccHrWZU4XRPRebBrc1    50000.000   \n",
       "...                                            ...          ...   \n",
       "8204  DLrkCb49DACUEjfQZmZnUDScW56r778xw3PX9QMQX3K7     1560.990   \n",
       "8205  9CbD6UM5ZK4Gs4w93HvmSRqBh2Cp2hYiBb5e1zVzNSAE      125.867   \n",
       "8206  9CbD6UM5ZK4Gs4w93HvmSRqBh2Cp2hYiBb5e1zVzNSAE      125.867   \n",
       "8207  9aKf4iabKen94fWJQozZKvmZ6rjdRvQYRFfqy8TnU3JR      499.990   \n",
       "8208  9aKf4iabKen94fWJQozZKvmZ6rjdRvQYRFfqy8TnU3JR      499.990   \n",
       "\n",
       "                                          trx_hash  trx_gasPrice  \n",
       "0     6YSucrDaHfnFxAwVTsPU7uMsyzTrphd2ckUDApzgjR5S      0.000000  \n",
       "1     6dpM3w58LQb7c4RCpzXFnDWajtrxjR2AxCqi4h5YJCgd      0.000000  \n",
       "2     Bc2JXbFcPNQKqdVDiByBmfq8iqV2aSDm6TaZincVjxKR      0.000000  \n",
       "3     7EmYeLWxeQRjvsAo7QHdpqxLRvbcTHvnpo3oEzyd8fX5      0.000000  \n",
       "4     91URXJEMoc5B9oRuqyr72EKHpfhRBUUL9jqinN8Lbcmj      0.000000  \n",
       "...                                            ...           ...  \n",
       "8204  DfG6AfshCJ4ByUwkiX6jLvptnCnwiWnD7cXx2hCrnjLW      0.000005  \n",
       "8205   cWHk2qVEmaowJffNwvgEsY3Pw6DmaiQuJwHRvTT4fL9      0.000005  \n",
       "8206   cWHk2qVEmaowJffNwvgEsY3Pw6DmaiQuJwHRvTT4fL9      0.000005  \n",
       "8207  DgJJjaQbWFLQt9S7m2AtSaG2pRRmhcewZTo9cSKQA95C      0.000005  \n",
       "8208  DgJJjaQbWFLQt9S7m2AtSaG2pRRmhcewZTo9cSKQA95C      0.000005  \n",
       "\n",
       "[8209 rows x 7 columns]"
      ]
     },
     "execution_count": 19,
     "metadata": {},
     "output_type": "execute_result"
    }
   ],
   "source": [
    "file"
   ]
  },
  {
   "cell_type": "code",
   "execution_count": 33,
   "id": "04e3b10c-2336-4c67-8c9d-c498709595bd",
   "metadata": {
    "execution": {
     "iopub.execute_input": "2024-09-24T07:58:26.354644Z",
     "iopub.status.busy": "2024-09-24T07:58:26.353603Z",
     "iopub.status.idle": "2024-09-24T07:58:26.363667Z",
     "shell.execute_reply": "2024-09-24T07:58:26.362473Z",
     "shell.execute_reply.started": "2024-09-24T07:58:26.354568Z"
    }
   },
   "outputs": [
    {
     "data": {
      "text/plain": [
       "8209"
      ]
     },
     "execution_count": 33,
     "metadata": {},
     "output_type": "execute_result"
    }
   ],
   "source": [
    "len(file)"
   ]
  },
  {
   "cell_type": "code",
   "execution_count": 16,
   "id": "37dec225-e70e-4351-acb7-d6afe5965634",
   "metadata": {
    "execution": {
     "iopub.execute_input": "2024-09-24T07:53:04.693245Z",
     "iopub.status.busy": "2024-09-24T07:53:04.692218Z",
     "iopub.status.idle": "2024-09-24T07:53:04.697748Z",
     "shell.execute_reply": "2024-09-24T07:53:04.696691Z",
     "shell.execute_reply.started": "2024-09-24T07:53:04.693191Z"
    }
   },
   "outputs": [],
   "source": [
    "# 모든 주소와 각 거래량을 담을 dict 생성.\n",
    "dict = {}"
   ]
  },
  {
   "cell_type": "code",
   "execution_count": 13,
   "id": "616f66b9-be92-4214-875a-b2025d9caa5a",
   "metadata": {
    "execution": {
     "iopub.execute_input": "2024-09-24T07:51:43.431981Z",
     "iopub.status.busy": "2024-09-24T07:51:43.431491Z",
     "iopub.status.idle": "2024-09-24T07:51:43.436652Z",
     "shell.execute_reply": "2024-09-24T07:51:43.436029Z",
     "shell.execute_reply.started": "2024-09-24T07:51:43.431948Z"
    }
   },
   "outputs": [
    {
     "name": "stdout",
     "output_type": "stream",
     "text": [
      "APnSR52EC1eH676m7qTBHUJ1nrGpHYpV7XKPxgRDD8gX\n",
      "C7C8odR8oashR5Feyrq2tJKaXL18id1dSj2zbkDGL2C2\n"
     ]
    }
   ],
   "source": [
    "print(file.iloc[0]['sender_address'])\n",
    "print(file.iloc[0]['receiver_address'])"
   ]
  },
  {
   "cell_type": "code",
   "execution_count": 17,
   "id": "cc92ea99-4a75-46e8-b166-5643bfc238d1",
   "metadata": {
    "execution": {
     "iopub.execute_input": "2024-09-24T07:53:08.979085Z",
     "iopub.status.busy": "2024-09-24T07:53:08.978360Z",
     "iopub.status.idle": "2024-09-24T07:53:08.987624Z",
     "shell.execute_reply": "2024-09-24T07:53:08.986527Z",
     "shell.execute_reply.started": "2024-09-24T07:53:08.979029Z"
    }
   },
   "outputs": [],
   "source": [
    "# 앞에꺼가 send 뒤에꺼가 receiver\n",
    "if file.iloc[0]['sender_address'] not in dict.keys():\n",
    "    dict[file.iloc[0]['sender_address']] = [0,0]\n",
    "if file.iloc[0]['receiver_address'] not in dict.keys():\n",
    "    dict[file.iloc[0]['receiver_address']] = [0,0]"
   ]
  },
  {
   "cell_type": "code",
   "execution_count": 18,
   "id": "5eeddd3d-0cb5-4f45-b656-ae8151dc66b7",
   "metadata": {
    "execution": {
     "iopub.execute_input": "2024-09-24T07:53:10.655163Z",
     "iopub.status.busy": "2024-09-24T07:53:10.653903Z",
     "iopub.status.idle": "2024-09-24T07:53:10.663382Z",
     "shell.execute_reply": "2024-09-24T07:53:10.662167Z",
     "shell.execute_reply.started": "2024-09-24T07:53:10.655079Z"
    }
   },
   "outputs": [
    {
     "data": {
      "text/plain": [
       "{'APnSR52EC1eH676m7qTBHUJ1nrGpHYpV7XKPxgRDD8gX': [0, 0],\n",
       " 'C7C8odR8oashR5Feyrq2tJKaXL18id1dSj2zbkDGL2C2': [0, 0]}"
      ]
     },
     "execution_count": 18,
     "metadata": {},
     "output_type": "execute_result"
    }
   ],
   "source": [
    "dict"
   ]
  },
  {
   "cell_type": "code",
   "execution_count": 25,
   "id": "7483011a-da88-41ac-8966-826da3b0bd75",
   "metadata": {
    "execution": {
     "iopub.execute_input": "2024-09-24T07:55:52.019667Z",
     "iopub.status.busy": "2024-09-24T07:55:52.018523Z",
     "iopub.status.idle": "2024-09-24T07:55:52.027292Z",
     "shell.execute_reply": "2024-09-24T07:55:52.026242Z",
     "shell.execute_reply.started": "2024-09-24T07:55:52.019603Z"
    }
   },
   "outputs": [
    {
     "data": {
      "text/plain": [
       "0"
      ]
     },
     "execution_count": 25,
     "metadata": {},
     "output_type": "execute_result"
    }
   ],
   "source": [
    "dict[file.iloc[0]['sender_address']][0]"
   ]
  },
  {
   "cell_type": "code",
   "execution_count": 31,
   "id": "178cc70f-3b2c-4a2f-9be3-3bea605f083c",
   "metadata": {
    "execution": {
     "iopub.execute_input": "2024-09-24T07:57:49.453486Z",
     "iopub.status.busy": "2024-09-24T07:57:49.452490Z",
     "iopub.status.idle": "2024-09-24T07:57:49.460918Z",
     "shell.execute_reply": "2024-09-24T07:57:49.459849Z",
     "shell.execute_reply.started": "2024-09-24T07:57:49.453433Z"
    }
   },
   "outputs": [],
   "source": [
    "dict[file.iloc[0]['sender_address']][0] += np.float64(file.iloc[0]['amount'])\n",
    "dict[file.iloc[0]['receiver_address']][1] += np.float64(file.iloc[0]['amount'])"
   ]
  },
  {
   "cell_type": "code",
   "execution_count": 32,
   "id": "2395917d-392a-46a2-ade6-543b1958b8f2",
   "metadata": {
    "execution": {
     "iopub.execute_input": "2024-09-24T07:57:52.283762Z",
     "iopub.status.busy": "2024-09-24T07:57:52.282972Z",
     "iopub.status.idle": "2024-09-24T07:57:52.294888Z",
     "shell.execute_reply": "2024-09-24T07:57:52.293890Z",
     "shell.execute_reply.started": "2024-09-24T07:57:52.283706Z"
    }
   },
   "outputs": [
    {
     "data": {
      "text/plain": [
       "{'APnSR52EC1eH676m7qTBHUJ1nrGpHYpV7XKPxgRDD8gX': [8000000.0, 0],\n",
       " 'C7C8odR8oashR5Feyrq2tJKaXL18id1dSj2zbkDGL2C2': [0, 8000000.0]}"
      ]
     },
     "execution_count": 32,
     "metadata": {},
     "output_type": "execute_result"
    }
   ],
   "source": [
    "dict"
   ]
  },
  {
   "cell_type": "code",
   "execution_count": 35,
   "id": "23dfe83c-d7c3-4905-83c0-fe9863f22063",
   "metadata": {
    "execution": {
     "iopub.execute_input": "2024-09-24T08:00:33.183039Z",
     "iopub.status.busy": "2024-09-24T08:00:33.181966Z",
     "iopub.status.idle": "2024-09-24T08:09:20.820744Z",
     "shell.execute_reply": "2024-09-24T08:09:20.819086Z",
     "shell.execute_reply.started": "2024-09-24T08:00:33.182980Z"
    }
   },
   "outputs": [
    {
     "ename": "KeyboardInterrupt",
     "evalue": "",
     "output_type": "error",
     "traceback": [
      "\u001b[0;31m---------------------------------------------------------------------------\u001b[0m",
      "\u001b[0;31mKeyboardInterrupt\u001b[0m                         Traceback (most recent call last)",
      "Cell \u001b[0;32mIn[35], line 14\u001b[0m\n\u001b[1;32m     12\u001b[0m \u001b[38;5;66;03m# 보내고 받은량 더하기\u001b[39;00m\n\u001b[1;32m     13\u001b[0m \u001b[38;5;28mdict\u001b[39m[file\u001b[38;5;241m.\u001b[39miloc[\u001b[38;5;241m0\u001b[39m][\u001b[38;5;124m'\u001b[39m\u001b[38;5;124msender_address\u001b[39m\u001b[38;5;124m'\u001b[39m]][\u001b[38;5;241m0\u001b[39m] \u001b[38;5;241m+\u001b[39m\u001b[38;5;241m=\u001b[39m np\u001b[38;5;241m.\u001b[39mfloat64(file\u001b[38;5;241m.\u001b[39miloc[\u001b[38;5;241m0\u001b[39m][\u001b[38;5;124m'\u001b[39m\u001b[38;5;124mamount\u001b[39m\u001b[38;5;124m'\u001b[39m])\n\u001b[0;32m---> 14\u001b[0m \u001b[38;5;28mdict\u001b[39m[\u001b[43mfile\u001b[49m\u001b[38;5;241;43m.\u001b[39;49m\u001b[43miloc\u001b[49m\u001b[43m[\u001b[49m\u001b[38;5;241;43m0\u001b[39;49m\u001b[43m]\u001b[49m[\u001b[38;5;124m'\u001b[39m\u001b[38;5;124mreceiver_address\u001b[39m\u001b[38;5;124m'\u001b[39m]][\u001b[38;5;241m1\u001b[39m] \u001b[38;5;241m+\u001b[39m\u001b[38;5;241m=\u001b[39m np\u001b[38;5;241m.\u001b[39mfloat64(file\u001b[38;5;241m.\u001b[39miloc[\u001b[38;5;241m0\u001b[39m][\u001b[38;5;124m'\u001b[39m\u001b[38;5;124mamount\u001b[39m\u001b[38;5;124m'\u001b[39m])\n",
      "File \u001b[0;32m~/.local/lib/python3.8/site-packages/pandas/core/indexing.py:1103\u001b[0m, in \u001b[0;36m_LocationIndexer.__getitem__\u001b[0;34m(self, key)\u001b[0m\n\u001b[1;32m   1100\u001b[0m axis \u001b[38;5;241m=\u001b[39m \u001b[38;5;28mself\u001b[39m\u001b[38;5;241m.\u001b[39maxis \u001b[38;5;129;01mor\u001b[39;00m \u001b[38;5;241m0\u001b[39m\n\u001b[1;32m   1102\u001b[0m maybe_callable \u001b[38;5;241m=\u001b[39m com\u001b[38;5;241m.\u001b[39mapply_if_callable(key, \u001b[38;5;28mself\u001b[39m\u001b[38;5;241m.\u001b[39mobj)\n\u001b[0;32m-> 1103\u001b[0m \u001b[38;5;28;01mreturn\u001b[39;00m \u001b[38;5;28;43mself\u001b[39;49m\u001b[38;5;241;43m.\u001b[39;49m\u001b[43m_getitem_axis\u001b[49m\u001b[43m(\u001b[49m\u001b[43mmaybe_callable\u001b[49m\u001b[43m,\u001b[49m\u001b[43m \u001b[49m\u001b[43maxis\u001b[49m\u001b[38;5;241;43m=\u001b[39;49m\u001b[43maxis\u001b[49m\u001b[43m)\u001b[49m\n",
      "File \u001b[0;32m~/.local/lib/python3.8/site-packages/pandas/core/indexing.py:1626\u001b[0m, in \u001b[0;36m_iLocIndexer._getitem_axis\u001b[0;34m(self, key, axis)\u001b[0m\n\u001b[1;32m   1624\u001b[0m \u001b[38;5;28;01mif\u001b[39;00m key \u001b[38;5;129;01mis\u001b[39;00m \u001b[38;5;28mEllipsis\u001b[39m:\n\u001b[1;32m   1625\u001b[0m     key \u001b[38;5;241m=\u001b[39m \u001b[38;5;28mslice\u001b[39m(\u001b[38;5;28;01mNone\u001b[39;00m)\n\u001b[0;32m-> 1626\u001b[0m \u001b[38;5;28;01melif\u001b[39;00m \u001b[38;5;28;43misinstance\u001b[39;49m\u001b[43m(\u001b[49m\u001b[43mkey\u001b[49m\u001b[43m,\u001b[49m\u001b[43m \u001b[49m\u001b[43mABCDataFrame\u001b[49m\u001b[43m)\u001b[49m:\n\u001b[1;32m   1627\u001b[0m     \u001b[38;5;28;01mraise\u001b[39;00m \u001b[38;5;167;01mIndexError\u001b[39;00m(\n\u001b[1;32m   1628\u001b[0m         \u001b[38;5;124m\"\u001b[39m\u001b[38;5;124mDataFrame indexer is not allowed for .iloc\u001b[39m\u001b[38;5;130;01m\\n\u001b[39;00m\u001b[38;5;124m\"\u001b[39m\n\u001b[1;32m   1629\u001b[0m         \u001b[38;5;124m\"\u001b[39m\u001b[38;5;124mConsider using .loc for automatic alignment.\u001b[39m\u001b[38;5;124m\"\u001b[39m\n\u001b[1;32m   1630\u001b[0m     )\n\u001b[1;32m   1632\u001b[0m \u001b[38;5;28;01mif\u001b[39;00m \u001b[38;5;28misinstance\u001b[39m(key, \u001b[38;5;28mslice\u001b[39m):\n",
      "File \u001b[0;32m~/.local/lib/python3.8/site-packages/pandas/core/dtypes/generic.py:44\u001b[0m, in \u001b[0;36mcreate_pandas_abc_type.<locals>._instancecheck\u001b[0;34m(cls, inst)\u001b[0m\n\u001b[1;32m     42\u001b[0m \u001b[38;5;129m@classmethod\u001b[39m  \u001b[38;5;66;03m# type: ignore[misc]\u001b[39;00m\n\u001b[1;32m     43\u001b[0m \u001b[38;5;28;01mdef\u001b[39;00m \u001b[38;5;21m_instancecheck\u001b[39m(\u001b[38;5;28mcls\u001b[39m, inst) \u001b[38;5;241m-\u001b[39m\u001b[38;5;241m>\u001b[39m \u001b[38;5;28mbool\u001b[39m:\n\u001b[0;32m---> 44\u001b[0m     \u001b[38;5;28;01mreturn\u001b[39;00m \u001b[43m_check\u001b[49m\u001b[43m(\u001b[49m\u001b[43minst\u001b[49m\u001b[43m)\u001b[49m \u001b[38;5;129;01mand\u001b[39;00m \u001b[38;5;129;01mnot\u001b[39;00m \u001b[38;5;28misinstance\u001b[39m(inst, \u001b[38;5;28mtype\u001b[39m)\n",
      "File \u001b[0;32m~/.local/lib/python3.8/site-packages/pandas/core/dtypes/generic.py:37\u001b[0m, in \u001b[0;36mcreate_pandas_abc_type.<locals>._check\u001b[0;34m(inst)\u001b[0m\n\u001b[1;32m     36\u001b[0m \u001b[38;5;28;01mdef\u001b[39;00m \u001b[38;5;21mcreate_pandas_abc_type\u001b[39m(name, attr, comp):\n\u001b[0;32m---> 37\u001b[0m     \u001b[38;5;28;01mdef\u001b[39;00m \u001b[38;5;21m_check\u001b[39m(inst) \u001b[38;5;241m-\u001b[39m\u001b[38;5;241m>\u001b[39m \u001b[38;5;28mbool\u001b[39m:\n\u001b[1;32m     38\u001b[0m         \u001b[38;5;28;01mreturn\u001b[39;00m \u001b[38;5;28mgetattr\u001b[39m(inst, attr, \u001b[38;5;124m\"\u001b[39m\u001b[38;5;124m_typ\u001b[39m\u001b[38;5;124m\"\u001b[39m) \u001b[38;5;129;01min\u001b[39;00m comp\n\u001b[1;32m     40\u001b[0m     \u001b[38;5;66;03m# https://github.com/python/mypy/issues/1006\u001b[39;00m\n\u001b[1;32m     41\u001b[0m     \u001b[38;5;66;03m# error: 'classmethod' used with a non-method\u001b[39;00m\n",
      "\u001b[0;31mKeyboardInterrupt\u001b[0m: "
     ]
    }
   ],
   "source": [
    "# 내가짠 반복문을 통한 코드. 너무 느리다. 8분이 지났는데도 끝날 기미 X\n",
    "dict = {}\n",
    "\n",
    "for name in file_list:\n",
    "    file = pd.read_csv(name)\n",
    "    for num in range(len(file)):\n",
    "        # 앞에꺼가 send 뒤에꺼가 receiver\n",
    "        if file.iloc[0]['sender_address'] not in dict.keys():\n",
    "            dict[file.iloc[0]['sender_address']] = [0,0]\n",
    "        if file.iloc[0]['receiver_address'] not in dict.keys():\n",
    "            dict[file.iloc[0]['receiver_address']] = [0,0]\n",
    "    \n",
    "        # 보내고 받은량 더하기\n",
    "        dict[file.iloc[0]['sender_address']][0] += np.float64(file.iloc[0]['amount'])\n",
    "        dict[file.iloc[0]['receiver_address']][1] += np.float64(file.iloc[0]['amount'])"
   ]
  },
  {
   "cell_type": "code",
   "execution_count": null,
   "id": "8272b79e-419d-4b53-853b-6102ff19ec45",
   "metadata": {
    "execution": {
     "iopub.status.busy": "2024-09-24T08:09:20.821970Z",
     "iopub.status.idle": "2024-09-24T08:09:20.822728Z",
     "shell.execute_reply": "2024-09-24T08:09:20.822450Z",
     "shell.execute_reply.started": "2024-09-24T08:09:20.822416Z"
    }
   },
   "outputs": [],
   "source": [
    "dict"
   ]
  },
  {
   "cell_type": "code",
   "execution_count": 5,
   "id": "022a45fc-18a7-404d-a0d2-da05f0325eea",
   "metadata": {
    "execution": {
     "iopub.execute_input": "2024-09-24T08:31:24.618377Z",
     "iopub.status.busy": "2024-09-24T08:31:24.617847Z",
     "iopub.status.idle": "2024-09-24T08:31:44.843472Z",
     "shell.execute_reply": "2024-09-24T08:31:44.842801Z",
     "shell.execute_reply.started": "2024-09-24T08:31:24.618341Z"
    }
   },
   "outputs": [
    {
     "name": "stdout",
     "output_type": "stream",
     "text": [
      "sender_address\n",
      "11DtZ3aiWpJGA96MKH53tzpfoRNeoE4HG2T4KExEL4M    1776.419300\n",
      "11HqKQduRvHVsyqrMcFysvbqpzYyLetGR6y8tqWu6pD     212.542500\n",
      "11NhpDSa69SPoDKsd5gKkyXmCECe6mk3tiHr7G5Whk2    4180.101800\n",
      "11QPE2DAGTnB62ogxCoqgDaFwVF3eCmMJgpUoLz9STj     119.413345\n",
      "11SGkVZ4qT8DirZaynTKUJzksRsuEA47P9YUadvKGyJ    1844.500000\n",
      "                                                  ...     \n",
      "zzd4nUWNrgF4GCXn6yjvoE3yZBsuUAa8TmLkCVfpJKm    1274.359400\n",
      "zziyLWBVhXE6FE18WJvhhjbUUvxT9B6P8eE4bWxpuob     977.300000\n",
      "zzmLDDHxpS5YA1dAHMQPu7cL2xiq5CdZVEKyzyZ9PeR    3414.702039\n",
      "zzmPo88vdC47yyHgRWPQRjHUwmTnnSiG1N3akt7bdiu    1396.602039\n",
      "zzxWfnNYJi8usVdDLuBBzHrwmipqPVyq2G1iZwUbfBz     102.647435\n",
      "Name: amount, Length: 513630, dtype: float64\n",
      "receiver_address\n",
      "111111111111RfdLKk6ZpSsf99rqcYeQT63tQTL        1085.480000\n",
      "11DtZ3aiWpJGA96MKH53tzpfoRNeoE4HG2T4KExEL4M    1776.419300\n",
      "11HqKQduRvHVsyqrMcFysvbqpzYyLetGR6y8tqWu6pD     212.542500\n",
      "11NhpDSa69SPoDKsd5gKkyXmCECe6mk3tiHr7G5Whk2    4180.101800\n",
      "11QPE2DAGTnB62ogxCoqgDaFwVF3eCmMJgpUoLz9STj     120.478701\n",
      "                                                  ...     \n",
      "zzd4nUWNrgF4GCXn6yjvoE3yZBsuUAa8TmLkCVfpJKm    1274.359400\n",
      "zziyLWBVhXE6FE18WJvhhjbUUvxT9B6P8eE4bWxpuob     977.355200\n",
      "zzmLDDHxpS5YA1dAHMQPu7cL2xiq5CdZVEKyzyZ9PeR    3414.700000\n",
      "zzmPo88vdC47yyHgRWPQRjHUwmTnnSiG1N3akt7bdiu    1396.600000\n",
      "zzxWfnNYJi8usVdDLuBBzHrwmipqPVyq2G1iZwUbfBz     102.647435\n",
      "Name: amount, Length: 520430, dtype: float64\n"
     ]
    }
   ],
   "source": [
    "# claude를 이용해 pandas의 장점을 이용한 코드. 매우 빠르고 정확하다.\n",
    "def process_transactions(file_list):\n",
    "    # 모든 파일의 데이터를 하나의 DataFrame으로 결합\n",
    "    all_data = pd.concat([pd.read_csv(file) for file in file_list], ignore_index=True)\n",
    "\n",
    "    # 송신자와 수신자 주소에 대한 거래량 계산\n",
    "    sent = all_data.groupby('sender_address')['amount'].sum()\n",
    "    received = all_data.groupby('receiver_address')['amount'].sum()\n",
    "\n",
    "    print(sent)\n",
    "    print(received)\n",
    "    \n",
    "    # 모든 고유한 주소 추출\n",
    "    all_addresses = set(sent.index) | set(received.index)\n",
    "\n",
    "    # 결과 딕셔너리 생성\n",
    "    result = {addr: [sent.get(addr, 0), received.get(addr, 0)] for addr in all_addresses}\n",
    "\n",
    "    return result\n",
    "\n",
    "# 사용 예:\n",
    "result = process_transactions(file_list)"
   ]
  },
  {
   "cell_type": "code",
   "execution_count": 6,
   "id": "354f966d-e2a5-43b6-9aaf-461744106499",
   "metadata": {
    "execution": {
     "iopub.execute_input": "2024-09-24T08:31:44.845104Z",
     "iopub.status.busy": "2024-09-24T08:31:44.844545Z",
     "iopub.status.idle": "2024-09-24T08:31:51.220486Z",
     "shell.execute_reply": "2024-09-24T08:31:51.219899Z",
     "shell.execute_reply.started": "2024-09-24T08:31:44.845082Z"
    }
   },
   "outputs": [],
   "source": [
    "df = pd.DataFrame(result)\n",
    "df = df.T\n",
    "df.rename(columns = {0 : 'sent', 1 : 'received'}, inplace = True)"
   ]
  },
  {
   "cell_type": "code",
   "execution_count": 7,
   "id": "e3461290-ba21-4b32-8fcc-2fd95346b324",
   "metadata": {
    "execution": {
     "iopub.execute_input": "2024-09-24T08:31:51.221532Z",
     "iopub.status.busy": "2024-09-24T08:31:51.221220Z",
     "iopub.status.idle": "2024-09-24T08:31:51.230940Z",
     "shell.execute_reply": "2024-09-24T08:31:51.230358Z",
     "shell.execute_reply.started": "2024-09-24T08:31:51.221514Z"
    }
   },
   "outputs": [
    {
     "data": {
      "text/html": [
       "<div>\n",
       "<style scoped>\n",
       "    .dataframe tbody tr th:only-of-type {\n",
       "        vertical-align: middle;\n",
       "    }\n",
       "\n",
       "    .dataframe tbody tr th {\n",
       "        vertical-align: top;\n",
       "    }\n",
       "\n",
       "    .dataframe thead th {\n",
       "        text-align: right;\n",
       "    }\n",
       "</style>\n",
       "<table border=\"1\" class=\"dataframe\">\n",
       "  <thead>\n",
       "    <tr style=\"text-align: right;\">\n",
       "      <th></th>\n",
       "      <th>sent</th>\n",
       "      <th>received</th>\n",
       "    </tr>\n",
       "  </thead>\n",
       "  <tbody>\n",
       "    <tr>\n",
       "      <th>pwx3qEDtJwdtiJTEZkssLeJu2F9FQqSKT53W4wMQUGz</th>\n",
       "      <td>171.019439</td>\n",
       "      <td>171.0174</td>\n",
       "    </tr>\n",
       "    <tr>\n",
       "      <th>2npCNDWgm8eKJCQqk3C4piUWdW8fWSAZoCsHHE5La7hg</th>\n",
       "      <td>119.300000</td>\n",
       "      <td>119.3986</td>\n",
       "    </tr>\n",
       "    <tr>\n",
       "      <th>EC5axAMKiUySb3J9X5AWtVUPvgYAyRtjFL3i5FZYuoN7</th>\n",
       "      <td>7315.710000</td>\n",
       "      <td>7315.7100</td>\n",
       "    </tr>\n",
       "    <tr>\n",
       "      <th>DsSZiJMHqEvXyHsso8dxfEWziCx4qcQXDrcgNfPpcj6e</th>\n",
       "      <td>11260.502039</td>\n",
       "      <td>11260.5000</td>\n",
       "    </tr>\n",
       "    <tr>\n",
       "      <th>G11jg1U5eFsQ2AbFVSK2XxgfUWeUgL3S2Q8cjej1P7W7</th>\n",
       "      <td>277.202039</td>\n",
       "      <td>277.2000</td>\n",
       "    </tr>\n",
       "    <tr>\n",
       "      <th>...</th>\n",
       "      <td>...</td>\n",
       "      <td>...</td>\n",
       "    </tr>\n",
       "    <tr>\n",
       "      <th>HZ4gkds1QGTZL5kWei3A38QYUD2wiaye7xYVeLZCTAuZ</th>\n",
       "      <td>951.721400</td>\n",
       "      <td>951.7214</td>\n",
       "    </tr>\n",
       "    <tr>\n",
       "      <th>3HFmeRLNnSEv7NutWgHzM6qK6CFoc8v9C8ZgBq7rmqx1</th>\n",
       "      <td>1355.325000</td>\n",
       "      <td>1355.3250</td>\n",
       "    </tr>\n",
       "    <tr>\n",
       "      <th>HCjB4xhN45wVVbFhCwqUcoJna9fwoyegpsJcRS52MF2E</th>\n",
       "      <td>4683.638000</td>\n",
       "      <td>4683.6380</td>\n",
       "    </tr>\n",
       "    <tr>\n",
       "      <th>BWj9b7SHtcKdPURTtE98xvyTZ2zJhpWbXxvMcDBiY3Nn</th>\n",
       "      <td>1850.200000</td>\n",
       "      <td>1850.2706</td>\n",
       "    </tr>\n",
       "    <tr>\n",
       "      <th>GoUJoTwSsSee4RHoFWGiY8spvRtjUXxSn8dZgSPSwfEv</th>\n",
       "      <td>1242.800000</td>\n",
       "      <td>1242.8716</td>\n",
       "    </tr>\n",
       "  </tbody>\n",
       "</table>\n",
       "<p>520779 rows × 2 columns</p>\n",
       "</div>"
      ],
      "text/plain": [
       "                                                      sent    received\n",
       "pwx3qEDtJwdtiJTEZkssLeJu2F9FQqSKT53W4wMQUGz     171.019439    171.0174\n",
       "2npCNDWgm8eKJCQqk3C4piUWdW8fWSAZoCsHHE5La7hg    119.300000    119.3986\n",
       "EC5axAMKiUySb3J9X5AWtVUPvgYAyRtjFL3i5FZYuoN7   7315.710000   7315.7100\n",
       "DsSZiJMHqEvXyHsso8dxfEWziCx4qcQXDrcgNfPpcj6e  11260.502039  11260.5000\n",
       "G11jg1U5eFsQ2AbFVSK2XxgfUWeUgL3S2Q8cjej1P7W7    277.202039    277.2000\n",
       "...                                                    ...         ...\n",
       "HZ4gkds1QGTZL5kWei3A38QYUD2wiaye7xYVeLZCTAuZ    951.721400    951.7214\n",
       "3HFmeRLNnSEv7NutWgHzM6qK6CFoc8v9C8ZgBq7rmqx1   1355.325000   1355.3250\n",
       "HCjB4xhN45wVVbFhCwqUcoJna9fwoyegpsJcRS52MF2E   4683.638000   4683.6380\n",
       "BWj9b7SHtcKdPURTtE98xvyTZ2zJhpWbXxvMcDBiY3Nn   1850.200000   1850.2706\n",
       "GoUJoTwSsSee4RHoFWGiY8spvRtjUXxSn8dZgSPSwfEv   1242.800000   1242.8716\n",
       "\n",
       "[520779 rows x 2 columns]"
      ]
     },
     "execution_count": 7,
     "metadata": {},
     "output_type": "execute_result"
    }
   ],
   "source": [
    "df"
   ]
  },
  {
   "cell_type": "code",
   "execution_count": 10,
   "id": "063fbac2-8bab-4189-b8b8-b82d044e5e4f",
   "metadata": {
    "execution": {
     "iopub.execute_input": "2024-09-24T08:33:06.456675Z",
     "iopub.status.busy": "2024-09-24T08:33:06.455985Z",
     "iopub.status.idle": "2024-09-24T08:33:07.823339Z",
     "shell.execute_reply": "2024-09-24T08:33:07.822304Z",
     "shell.execute_reply.started": "2024-09-24T08:33:06.456627Z"
    }
   },
   "outputs": [],
   "source": [
    "df.to_csv('9.24_SOL_2020_sent&received_account.csv')"
   ]
  },
  {
   "cell_type": "markdown",
   "id": "49049846-5ef3-43ca-8f1e-cc0733615aeb",
   "metadata": {},
   "source": [
    "이 아래는 위 코드가 제대로 실행되는지 확인하기 위해서 두들겨본 내용."
   ]
  },
  {
   "cell_type": "code",
   "execution_count": 41,
   "id": "67e302c6-b950-409e-b376-9eb2314bd061",
   "metadata": {
    "execution": {
     "iopub.execute_input": "2024-09-24T08:12:35.244331Z",
     "iopub.status.busy": "2024-09-24T08:12:35.243247Z",
     "iopub.status.idle": "2024-09-24T08:12:52.228446Z",
     "shell.execute_reply": "2024-09-24T08:12:52.227728Z",
     "shell.execute_reply.started": "2024-09-24T08:12:35.244278Z"
    }
   },
   "outputs": [],
   "source": [
    "all_data = pd.concat([pd.read_csv(file) for file in file_list], ignore_index=True)\n",
    "\n",
    "# 송신자와 수신자 주소에 대한 거래량 계산\n",
    "sent = all_data.groupby('sender_address')['amount'].sum()\n",
    "received = all_data.groupby('receiver_address')['amount'].sum()"
   ]
  },
  {
   "cell_type": "code",
   "execution_count": 42,
   "id": "21c98b59-515a-46aa-8ead-fae9532f3b1c",
   "metadata": {
    "execution": {
     "iopub.execute_input": "2024-09-24T08:12:52.229761Z",
     "iopub.status.busy": "2024-09-24T08:12:52.229542Z",
     "iopub.status.idle": "2024-09-24T08:12:52.840292Z",
     "shell.execute_reply": "2024-09-24T08:12:52.839633Z",
     "shell.execute_reply.started": "2024-09-24T08:12:52.229742Z"
    }
   },
   "outputs": [],
   "source": [
    "# 모든 고유한 주소 추출\n",
    "all_addresses = set(sent.index) | set(received.index)"
   ]
  },
  {
   "cell_type": "code",
   "execution_count": 43,
   "id": "5ba787f5-8942-4488-825d-4f7cd2d72864",
   "metadata": {
    "execution": {
     "iopub.execute_input": "2024-09-24T08:12:56.240597Z",
     "iopub.status.busy": "2024-09-24T08:12:56.239874Z",
     "iopub.status.idle": "2024-09-24T08:12:56.369992Z",
     "shell.execute_reply": "2024-09-24T08:12:56.369029Z",
     "shell.execute_reply.started": "2024-09-24T08:12:56.240545Z"
    }
   },
   "outputs": [
    {
     "data": {
      "text/plain": [
       "sender_address\n",
       "11DtZ3aiWpJGA96MKH53tzpfoRNeoE4HG2T4KExEL4M    1776.419300\n",
       "11HqKQduRvHVsyqrMcFysvbqpzYyLetGR6y8tqWu6pD     212.542500\n",
       "11NhpDSa69SPoDKsd5gKkyXmCECe6mk3tiHr7G5Whk2    4180.101800\n",
       "11QPE2DAGTnB62ogxCoqgDaFwVF3eCmMJgpUoLz9STj     119.413345\n",
       "11SGkVZ4qT8DirZaynTKUJzksRsuEA47P9YUadvKGyJ    1844.500000\n",
       "                                                  ...     \n",
       "zzd4nUWNrgF4GCXn6yjvoE3yZBsuUAa8TmLkCVfpJKm    1274.359400\n",
       "zziyLWBVhXE6FE18WJvhhjbUUvxT9B6P8eE4bWxpuob     977.300000\n",
       "zzmLDDHxpS5YA1dAHMQPu7cL2xiq5CdZVEKyzyZ9PeR    3414.702039\n",
       "zzmPo88vdC47yyHgRWPQRjHUwmTnnSiG1N3akt7bdiu    1396.602039\n",
       "zzxWfnNYJi8usVdDLuBBzHrwmipqPVyq2G1iZwUbfBz     102.647435\n",
       "Name: amount, Length: 513630, dtype: float64"
      ]
     },
     "execution_count": 43,
     "metadata": {},
     "output_type": "execute_result"
    }
   ],
   "source": [
    "sent"
   ]
  },
  {
   "cell_type": "code",
   "execution_count": 52,
   "id": "ac77b413-e086-4baa-9ee0-3cf5e12d94a2",
   "metadata": {
    "execution": {
     "iopub.execute_input": "2024-09-24T08:16:46.310891Z",
     "iopub.status.busy": "2024-09-24T08:16:46.310136Z",
     "iopub.status.idle": "2024-09-24T08:16:46.321113Z",
     "shell.execute_reply": "2024-09-24T08:16:46.319761Z",
     "shell.execute_reply.started": "2024-09-24T08:16:46.310820Z"
    }
   },
   "outputs": [
    {
     "data": {
      "text/plain": [
       "259452152.60909086"
      ]
     },
     "execution_count": 52,
     "metadata": {},
     "output_type": "execute_result"
    }
   ],
   "source": [
    "sent.get('APnSR52EC1eH676m7qTBHUJ1nrGpHYpV7XKPxgRDD8gX')"
   ]
  },
  {
   "cell_type": "code",
   "execution_count": 51,
   "id": "6e385862-f1f2-4380-bbd7-d8f672549da8",
   "metadata": {
    "execution": {
     "iopub.execute_input": "2024-09-24T08:16:35.454270Z",
     "iopub.status.busy": "2024-09-24T08:16:35.453602Z",
     "iopub.status.idle": "2024-09-24T08:16:35.462239Z",
     "shell.execute_reply": "2024-09-24T08:16:35.461116Z",
     "shell.execute_reply.started": "2024-09-24T08:16:35.454219Z"
    }
   },
   "outputs": [
    {
     "data": {
      "text/plain": [
       "23431805.99"
      ]
     },
     "execution_count": 51,
     "metadata": {},
     "output_type": "execute_result"
    }
   ],
   "source": [
    "received.get('APnSR52EC1eH676m7qTBHUJ1nrGpHYpV7XKPxgRDD8gX')"
   ]
  },
  {
   "cell_type": "code",
   "execution_count": null,
   "id": "4c43b4f9-c022-4bf6-a420-0025206176fc",
   "metadata": {},
   "outputs": [],
   "source": [
    "# 결과 딕셔너리 생성\n",
    "result = {addr: [sent.get(addr, 0), received.get(addr, 0)] for addr in all_addresses}"
   ]
  },
  {
   "cell_type": "code",
   "execution_count": 49,
   "id": "e3c806f8-f5c7-4a4d-8fc2-f874ae95f52e",
   "metadata": {
    "execution": {
     "iopub.execute_input": "2024-09-24T08:16:10.103452Z",
     "iopub.status.busy": "2024-09-24T08:16:10.102939Z",
     "iopub.status.idle": "2024-09-24T08:16:10.435008Z",
     "shell.execute_reply": "2024-09-24T08:16:10.434149Z",
     "shell.execute_reply.started": "2024-09-24T08:16:10.103415Z"
    }
   },
   "outputs": [
    {
     "data": {
      "text/plain": [
       "259452152.60909086"
      ]
     },
     "execution_count": 49,
     "metadata": {},
     "output_type": "execute_result"
    }
   ],
   "source": [
    "all_data[all_data['sender_address'] == 'APnSR52EC1eH676m7qTBHUJ1nrGpHYpV7XKPxgRDD8gX']['amount'].sum()"
   ]
  },
  {
   "cell_type": "code",
   "execution_count": 50,
   "id": "d500950b-1f04-414c-ba92-4d44f5aa91c1",
   "metadata": {
    "execution": {
     "iopub.execute_input": "2024-09-24T08:16:21.594468Z",
     "iopub.status.busy": "2024-09-24T08:16:21.593382Z",
     "iopub.status.idle": "2024-09-24T08:16:21.916329Z",
     "shell.execute_reply": "2024-09-24T08:16:21.915570Z",
     "shell.execute_reply.started": "2024-09-24T08:16:21.594414Z"
    }
   },
   "outputs": [
    {
     "data": {
      "text/plain": [
       "23431805.99"
      ]
     },
     "execution_count": 50,
     "metadata": {},
     "output_type": "execute_result"
    }
   ],
   "source": [
    "all_data[all_data['receiver_address'] == 'APnSR52EC1eH676m7qTBHUJ1nrGpHYpV7XKPxgRDD8gX']['amount'].sum()"
   ]
  },
  {
   "cell_type": "code",
   "execution_count": null,
   "id": "c5cdccf9-8d9d-463b-b7e1-e48f606f092a",
   "metadata": {},
   "outputs": [],
   "source": []
  }
 ],
 "metadata": {
  "kernelspec": {
   "display_name": "Python 3 (ipykernel)",
   "language": "python",
   "name": "python3"
  },
  "language_info": {
   "codemirror_mode": {
    "name": "ipython",
    "version": 3
   },
   "file_extension": ".py",
   "mimetype": "text/x-python",
   "name": "python",
   "nbconvert_exporter": "python",
   "pygments_lexer": "ipython3",
   "version": "3.8.10"
  }
 },
 "nbformat": 4,
 "nbformat_minor": 5
}
