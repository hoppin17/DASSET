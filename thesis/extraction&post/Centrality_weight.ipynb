{
 "cells": [
  {
   "cell_type": "code",
   "execution_count": 1,
   "id": "72c2678d-7b06-48a3-a5c8-070b0f25c5f5",
   "metadata": {
    "execution": {
     "iopub.execute_input": "2024-09-18T06:53:25.012194Z",
     "iopub.status.busy": "2024-09-18T06:53:25.011452Z",
     "iopub.status.idle": "2024-09-18T06:53:25.793411Z",
     "shell.execute_reply": "2024-09-18T06:53:25.792515Z",
     "shell.execute_reply.started": "2024-09-18T06:53:25.012139Z"
    }
   },
   "outputs": [],
   "source": [
    "import requests\n",
    "import pandas as pd\n",
    "import numpy as np\n",
    "import matplotlib.pyplot as plt\n",
    "import json\n",
    "import os\n",
    "from pandas import json_normalize\n",
    "import networkx as nx\n",
    "import matplotlib.pyplot as plt\n",
    "from tqdm import tqdm\n",
    "import warnings\n",
    "from datetime import datetime\n",
    "import multiprocessing as mp\n",
    "warnings.filterwarnings('ignore')"
   ]
  },
  {
   "cell_type": "code",
   "execution_count": 2,
   "id": "21e071a2-3633-491c-b0f8-da6b49125289",
   "metadata": {
    "execution": {
     "iopub.execute_input": "2024-09-18T06:53:25.795090Z",
     "iopub.status.busy": "2024-09-18T06:53:25.794719Z",
     "iopub.status.idle": "2024-09-18T06:53:25.801724Z",
     "shell.execute_reply": "2024-09-18T06:53:25.800941Z",
     "shell.execute_reply.started": "2024-09-18T06:53:25.795069Z"
    }
   },
   "outputs": [],
   "source": [
    "# 가중치 X\n",
    "def cal_centrality(original_df):\n",
    "    # 토큰 전송이 있는 거래만 필터링\n",
    "    large_df = original_df[original_df['amount'] != 0.0]\n",
    "    \n",
    "    # 네트워크 생성 (유향 그래프)\n",
    "    G = nx.from_pandas_edgelist(large_df, 'sender_address', 'receiver_address', edge_attr='amount', create_using=nx.DiGraph())\n",
    "    \n",
    "    # 중심성 계산\n",
    "    centrality = {\n",
    "        'degree_centrality': nx.degree_centrality(G),\n",
    "        'betweenness_centrality': nx.betweenness_centrality(G),\n",
    "        'closeness_centrality': nx.closeness_centrality(G),\n",
    "        'pagerank': nx.pagerank(G, alpha=0.85)\n",
    "    }\n",
    "    \n",
    "    # 결과를 DataFrame으로 변환\n",
    "    df = pd.DataFrame(centrality)\n",
    "    return df\n",
    "\n",
    "# 가중치 O\n",
    "def cal_centrality_weight(original_df):\n",
    "    # Filter transactions with non-zero amount\n",
    "    large_df = original_df[original_df['amount'] != 0.0]\n",
    "    \n",
    "    # Create directed graph with weighted edges\n",
    "    G = nx.from_pandas_edgelist(large_df, 'sender_address', 'receiver_address', edge_attr='amount', create_using=nx.DiGraph())\n",
    "    \n",
    "    # Calculate centrality measures with weights\n",
    "    centrality = {\n",
    "        'degree_centrality': nx.degree_centrality(G),\n",
    "        'in_degree_centrality': nx.in_degree_centrality(G),\n",
    "        'out_degree_centrality': nx.out_degree_centrality(G),\n",
    "        'betweenness_centrality': nx.betweenness_centrality(G, weight='amount'),\n",
    "        'closeness_centrality': nx.closeness_centrality(G, distance='amount'),\n",
    "        'pagerank': nx.pagerank(G, alpha=0.85, weight='amount')\n",
    "    }\n",
    "    \n",
    "    # Convert results to DataFrame\n",
    "    df = pd.DataFrame(centrality)\n",
    "    return df"
   ]
  },
  {
   "cell_type": "code",
   "execution_count": 3,
   "id": "3e16c6bf-2a1c-4fb1-ba25-e0a69edee5fc",
   "metadata": {
    "execution": {
     "iopub.execute_input": "2024-09-18T06:53:25.802886Z",
     "iopub.status.busy": "2024-09-18T06:53:25.802602Z",
     "iopub.status.idle": "2024-09-18T06:53:25.817850Z",
     "shell.execute_reply": "2024-09-18T06:53:25.816843Z",
     "shell.execute_reply.started": "2024-09-18T06:53:25.802861Z"
    }
   },
   "outputs": [],
   "source": [
    "# 메인 함수\n",
    "def calculate_daily_centrality(df):\n",
    "    # timestamp를 datetime 형식으로 변환\n",
    "    df['timestamp'] = pd.to_datetime(df['timestamp'])\n",
    "    \n",
    "    # 날짜별로 그룹화\n",
    "    grouped = df.groupby(df['timestamp'].dt.date)\n",
    "    \n",
    "    # 결과를 저장할 빈 DataFrame 생성\n",
    "    result_df = pd.DataFrame()\n",
    "    \n",
    "    # tqdm을 사용하여 진행 상황 표시\n",
    "    for date, group in tqdm(grouped):\n",
    "        # 해당 날짜의 데이터에 대해 centrality 계산\n",
    "        daily_centrality = cal_centrality(group)\n",
    "        \n",
    "        # 날짜 정보 추가\n",
    "        daily_centrality['date'] = date\n",
    "        \n",
    "        # 결과를 메인 DataFrame에 추가\n",
    "        result_df = pd.concat([result_df, daily_centrality], ignore_index=False)\n",
    "    \n",
    "    return result_df\n",
    "\n",
    "# 메인 함수 w 가중치\n",
    "def calculate_daily_centrality_weight(df):\n",
    "    # timestamp를 datetime 형식으로 변환\n",
    "    df['timestamp'] = pd.to_datetime(df['timestamp'])\n",
    "    \n",
    "    # 날짜별로 그룹화\n",
    "    grouped = df.groupby(df['timestamp'].dt.date)\n",
    "    \n",
    "    # 결과를 저장할 빈 DataFrame 생성\n",
    "    result_df = pd.DataFrame()\n",
    "    \n",
    "    # tqdm을 사용하여 진행 상황 표시\n",
    "    for date, group in tqdm(grouped):\n",
    "        # 해당 날짜의 데이터에 대해 centrality 계산\n",
    "        daily_centrality = cal_centrality_weight(group)\n",
    "        \n",
    "        # 날짜 정보 추가\n",
    "        daily_centrality['date'] = date\n",
    "        \n",
    "        # 결과를 메인 DataFrame에 추가\n",
    "        result_df = pd.concat([result_df, daily_centrality], ignore_index=False)\n",
    "    \n",
    "    return result_df"
   ]
  },
  {
   "cell_type": "code",
   "execution_count": 4,
   "id": "8b8e9ef0-c93a-4d41-baf0-4d6a2184ef2a",
   "metadata": {
    "execution": {
     "iopub.execute_input": "2024-09-18T06:53:26.296847Z",
     "iopub.status.busy": "2024-09-18T06:53:26.296337Z",
     "iopub.status.idle": "2024-09-18T06:53:26.307650Z",
     "shell.execute_reply": "2024-09-18T06:53:26.306642Z",
     "shell.execute_reply.started": "2024-09-18T06:53:26.296810Z"
    }
   },
   "outputs": [],
   "source": [
    "# Claude로 병렬처리로 바꾼 코드\n",
    "def cal_centrality_weight(group):\n",
    "    # Filter transactions with non-zero amount\n",
    "    large_df = group[group['amount'] != 0.0]\n",
    "    \n",
    "    # Create directed graph with weighted edges\n",
    "    G = nx.from_pandas_edgelist(large_df, 'sender_address', 'receiver_address', edge_attr='amount', create_using=nx.DiGraph())\n",
    "    \n",
    "    # Calculate centrality measures with weights\n",
    "    centrality = {\n",
    "        'degree_centrality': nx.degree_centrality(G),\n",
    "        'in_degree_centrality': nx.in_degree_centrality(G),\n",
    "        'out_degree_centrality': nx.out_degree_centrality(G),\n",
    "        'betweenness_centrality': nx.betweenness_centrality(G, weight='amount'),\n",
    "        'closeness_centrality': nx.closeness_centrality(G, distance='amount'),\n",
    "        'pagerank': nx.pagerank(G, alpha=0.85, weight='amount')\n",
    "    }\n",
    "    \n",
    "    # Convert results to DataFrame\n",
    "    df = pd.DataFrame(centrality)\n",
    "    return df\n",
    "\n",
    "def process_daily_centrality(args):\n",
    "    date, group = args\n",
    "    daily_centrality = cal_centrality_weight(group)\n",
    "    daily_centrality['date'] = date\n",
    "    return daily_centrality\n",
    "\n",
    "def calculate_daily_centrality_weight(df):\n",
    "    # timestamp를 datetime 형식으로 변환\n",
    "    df['timestamp'] = pd.to_datetime(df['timestamp'])\n",
    "    \n",
    "    # 날짜별로 그룹화\n",
    "    grouped = df.groupby(df['timestamp'].dt.date)\n",
    "    \n",
    "    # 멀티프로세싱 풀 생성\n",
    "    pool = mp.Pool(processes=mp.cpu_count())\n",
    "    \n",
    "    # tqdm을 사용하여 진행 상황 표시\n",
    "    results = list(tqdm(pool.imap(process_daily_centrality, grouped), total=len(grouped)))\n",
    "    \n",
    "    # 풀 종료\n",
    "    pool.close()\n",
    "    pool.join()\n",
    "    \n",
    "    # 결과를 하나의 DataFrame으로 결합\n",
    "    result_df = pd.concat(results, ignore_index=False)\n",
    "    \n",
    "    return result_df"
   ]
  },
  {
   "cell_type": "code",
   "execution_count": 5,
   "id": "bc530499-9a42-468e-9d46-096413072c1f",
   "metadata": {
    "execution": {
     "iopub.execute_input": "2024-09-18T06:53:27.485869Z",
     "iopub.status.busy": "2024-09-18T06:53:27.485373Z",
     "iopub.status.idle": "2024-09-18T06:53:27.748334Z",
     "shell.execute_reply": "2024-09-18T06:53:27.747229Z",
     "shell.execute_reply.started": "2024-09-18T06:53:27.485828Z"
    }
   },
   "outputs": [
    {
     "name": "stdout",
     "output_type": "stream",
     "text": [
      "9.11_SOL_2020-03-19_2020_12_31_calculate_componentes.csv\n",
      "9.11_SOL_2020-03-26_2020-12-31_centrality.csv\n",
      "Centrality.ipynb\n",
      "Centrality_weight.ipynb\n",
      "SOL_2020-03-19_2020-06-30_TRX.csv\n",
      "SOL_2020-07-01_2020-09-30_TRX.csv\n",
      "SOL_2020-10-01_2020-12-31_TRX.csv\n",
      "SOL_Transfer_extraction_code.ipynb\n",
      "calculate_components.ipynb\n",
      "calculate_components2.ipynb\n"
     ]
    }
   ],
   "source": [
    "ls"
   ]
  },
  {
   "cell_type": "code",
   "execution_count": 6,
   "id": "ccd7f2cb-6928-4160-8ef0-ebb13c0e65aa",
   "metadata": {
    "execution": {
     "iopub.execute_input": "2024-09-18T06:53:36.395989Z",
     "iopub.status.busy": "2024-09-18T06:53:36.395431Z",
     "iopub.status.idle": "2024-09-18T06:53:36.401385Z",
     "shell.execute_reply": "2024-09-18T06:53:36.400487Z",
     "shell.execute_reply.started": "2024-09-18T06:53:36.395943Z"
    }
   },
   "outputs": [],
   "source": [
    "# 함수 사용\n",
    "file_list = os.listdir()\n",
    "file_list = [file for file in file_list if 'TRX' in file]\n",
    "file_list.sort()"
   ]
  },
  {
   "cell_type": "code",
   "execution_count": 8,
   "id": "6d72ab03-7f1a-4355-8f3f-d4673e558900",
   "metadata": {
    "execution": {
     "iopub.execute_input": "2024-09-18T06:53:51.874366Z",
     "iopub.status.busy": "2024-09-18T06:53:51.873159Z",
     "iopub.status.idle": "2024-09-18T08:04:35.877425Z",
     "shell.execute_reply": "2024-09-18T08:04:35.876603Z",
     "shell.execute_reply.started": "2024-09-18T06:53:51.874305Z"
    }
   },
   "outputs": [
    {
     "name": "stderr",
     "output_type": "stream",
     "text": [
      "100%|███████████████████████████████████████████████████████████████████████████████| 90/90 [00:00<00:00, 149.95it/s]\n",
      "100%|████████████████████████████████████████████████████████████████████████████████| 90/90 [10:59<00:00,  7.33s/it]\n",
      "100%|████████████████████████████████████████████████████████████████████████████████| 92/92 [59:18<00:00, 38.68s/it]\n"
     ]
    }
   ],
   "source": [
    "# weight를 가한 cent 계산중.\n",
    "for file in file_list:\n",
    "    df = pd.read_csv(f'{file}')  # 데이터 로드\n",
    "    df['timestamp'] = pd.to_datetime(df['timestamp'])\n",
    "    result = calculate_daily_centrality_weight(df)\n",
    "    result.to_csv(f'{file[:-8]}_centrality_weight.csv')  # 결과 저장"
   ]
  },
  {
   "cell_type": "code",
   "execution_count": null,
   "id": "cacf789d-7bde-4694-b011-e83d3d3d69f9",
   "metadata": {},
   "outputs": [],
   "source": []
  }
 ],
 "metadata": {
  "kernelspec": {
   "display_name": "Python 3 (ipykernel)",
   "language": "python",
   "name": "python3"
  },
  "language_info": {
   "codemirror_mode": {
    "name": "ipython",
    "version": 3
   },
   "file_extension": ".py",
   "mimetype": "text/x-python",
   "name": "python",
   "nbconvert_exporter": "python",
   "pygments_lexer": "ipython3",
   "version": "3.8.10"
  }
 },
 "nbformat": 4,
 "nbformat_minor": 5
}
