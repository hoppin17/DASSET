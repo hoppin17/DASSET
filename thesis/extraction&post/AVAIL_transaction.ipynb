{
 "cells": [
  {
   "cell_type": "markdown",
   "id": "be6354a6-b3c6-41a7-a2be-2c565405b191",
   "metadata": {},
   "source": [
    "## AVAIL trasnaction data"
   ]
  },
  {
   "cell_type": "code",
   "execution_count": 1,
   "id": "933c0340-9766-4d02-9c9d-f6d88e932aa8",
   "metadata": {
    "execution": {
     "iopub.execute_input": "2024-09-15T15:57:42.479048Z",
     "iopub.status.busy": "2024-09-15T15:57:42.477984Z",
     "iopub.status.idle": "2024-09-15T15:57:42.545419Z",
     "shell.execute_reply": "2024-09-15T15:57:42.543919Z",
     "shell.execute_reply.started": "2024-09-15T15:57:42.478994Z"
    }
   },
   "outputs": [],
   "source": [
    "import requests\n",
    "import json\n",
    "import time"
   ]
  },
  {
   "cell_type": "code",
   "execution_count": null,
   "id": "70c466cf-a211-4acd-a2b0-f62966cde394",
   "metadata": {
    "execution": {
     "iopub.execute_input": "2024-09-15T15:59:57.291611Z",
     "iopub.status.busy": "2024-09-15T15:59:57.290883Z"
    }
   },
   "outputs": [
    {
     "name": "stdout",
     "output_type": "stream",
     "text": [
      "Blocks 246000 to 247000 saved to AVAIL_blocks_246000_to_247000.json\n",
      "Blocks 247000 to 248000 saved to AVAIL_blocks_247000_to_248000.json\n",
      "Blocks 248000 to 249000 saved to AVAIL_blocks_248000_to_249000.json\n",
      "Blocks 249000 to 250000 saved to AVAIL_blocks_249000_to_250000.json\n",
      "Blocks 250000 to 251000 saved to AVAIL_blocks_250000_to_251000.json\n",
      "Blocks 251000 to 252000 saved to AVAIL_blocks_251000_to_252000.json\n",
      "Blocks 252000 to 253000 saved to AVAIL_blocks_252000_to_253000.json\n",
      "Blocks 253000 to 254000 saved to AVAIL_blocks_253000_to_254000.json\n",
      "Blocks 254000 to 255000 saved to AVAIL_blocks_254000_to_255000.json\n",
      "Blocks 255000 to 256000 saved to AVAIL_blocks_255000_to_256000.json\n",
      "Blocks 256000 to 257000 saved to AVAIL_blocks_256000_to_257000.json\n",
      "Blocks 257000 to 258000 saved to AVAIL_blocks_257000_to_258000.json\n",
      "Blocks 258000 to 259000 saved to AVAIL_blocks_258000_to_259000.json\n",
      "Blocks 259000 to 260000 saved to AVAIL_blocks_259000_to_260000.json\n",
      "Blocks 260000 to 261000 saved to AVAIL_blocks_260000_to_261000.json\n",
      "Blocks 263000 to 264000 saved to AVAIL_blocks_263000_to_264000.json\n",
      "Blocks 264000 to 265000 saved to AVAIL_blocks_264000_to_265000.json\n",
      "Blocks 265000 to 266000 saved to AVAIL_blocks_265000_to_266000.json\n",
      "Blocks 266000 to 267000 saved to AVAIL_blocks_266000_to_267000.json\n",
      "Blocks 267000 to 268000 saved to AVAIL_blocks_267000_to_268000.json\n",
      "Blocks 268000 to 269000 saved to AVAIL_blocks_268000_to_269000.json\n",
      "Blocks 269000 to 270000 saved to AVAIL_blocks_269000_to_270000.json\n",
      "Blocks 270000 to 271000 saved to AVAIL_blocks_270000_to_271000.json\n",
      "Blocks 271000 to 272000 saved to AVAIL_blocks_271000_to_272000.json\n",
      "Blocks 272000 to 273000 saved to AVAIL_blocks_272000_to_273000.json\n",
      "Blocks 273000 to 274000 saved to AVAIL_blocks_273000_to_274000.json\n",
      "Blocks 274000 to 275000 saved to AVAIL_blocks_274000_to_275000.json\n",
      "Blocks 275000 to 276000 saved to AVAIL_blocks_275000_to_276000.json\n",
      "Blocks 276000 to 277000 saved to AVAIL_blocks_276000_to_277000.json\n",
      "Blocks 277000 to 278000 saved to AVAIL_blocks_277000_to_278000.json\n",
      "Blocks 278000 to 279000 saved to AVAIL_blocks_278000_to_279000.json\n",
      "Blocks 279000 to 280000 saved to AVAIL_blocks_279000_to_280000.json\n",
      "Blocks 280000 to 281000 saved to AVAIL_blocks_280000_to_281000.json\n",
      "Blocks 286000 to 287000 saved to AVAIL_blocks_286000_to_287000.json\n",
      "Blocks 287000 to 288000 saved to AVAIL_blocks_287000_to_288000.json\n",
      "Blocks 288000 to 289000 saved to AVAIL_blocks_288000_to_289000.json\n",
      "Blocks 289000 to 290000 saved to AVAIL_blocks_289000_to_290000.json\n"
     ]
    }
   ],
   "source": [
    "import requests\n",
    "import json\n",
    "\n",
    "url = \"https://avail.api.subscan.io/api/scan/block\"\n",
    "num = 246001\n",
    "block_batch = []\n",
    "batch_size = 1000  # 한번에 저장할 블록 수\n",
    "headers = {\n",
    "   'User-Agent': 'Apidog/1.0.0 (https://apidog.com)',\n",
    "   'Content-Type': 'application/json'\n",
    "}\n",
    "\n",
    "while True:\n",
    "    payload = json.dumps({\n",
    "        \"block_num\": num,\n",
    "        \"only_head\": False\n",
    "    })\n",
    "\n",
    "    response = requests.post(url, headers=headers, data=payload)\n",
    "\n",
    "    if response.status_code == 200:\n",
    "        response_data = response.json()\n",
    "        block_batch.append(response_data)\n",
    "\n",
    "        # 1000개씩 저장\n",
    "        if len(block_batch) == batch_size:\n",
    "            start_num = num - batch_size\n",
    "            end_num = num\n",
    "            file_name = f\"AVAIL_blocks_{start_num}_to_{end_num}.json\"\n",
    "            \n",
    "            with open(file_name, 'w') as json_file:\n",
    "                json.dump(block_batch, json_file, indent=4)\n",
    "            \n",
    "            print(f\"Blocks {start_num} to {end_num} saved to {file_name}\")\n",
    "\n",
    "            # 저장 후 리스트 초기화\n",
    "            block_batch = []\n",
    "\n",
    "        # 다음 블록 번호로 이동\n",
    "        num += 1\n",
    "\n",
    "    else:\n",
    "        print(f\"Error occurred: {response.status_code} - {response.text}\")\n",
    "        \n",
    "        # 1000개 미만의 블록이 남아있을 경우 마지막으로 저장\n",
    "        if block_batch:\n",
    "            start_num = num - len(block_batch)\n",
    "            end_num = num - 1\n",
    "            file_name = f\"AVAIL_blocks_{start_num}_to_{end_num}.json\"\n",
    "            \n",
    "            with open(file_name, 'w') as json_file:\n",
    "                json.dump(block_batch, json_file, indent=4)\n",
    "            \n",
    "            print(f\"Blocks {start_num} to {end_num} saved to {file_name}\")\n",
    "\n",
    "        break\n",
    "\n",
    "    time.sleep(0.8)\n"
   ]
  },
  {
   "cell_type": "markdown",
   "id": "17bb137b-37cb-4766-927f-c198f9032e87",
   "metadata": {},
   "source": [
    "대략 만개에 2시간정도 걸린다. 만개에 2틀정도. 총 블록의 수가 24만개이므로 그렇게 오래걸릴 것 같지는 않다."
   ]
  },
  {
   "cell_type": "code",
   "execution_count": null,
   "id": "3484d9ac-5afb-4c22-baaf-10e9a48c02fa",
   "metadata": {},
   "outputs": [],
   "source": []
  }
 ],
 "metadata": {
  "kernelspec": {
   "display_name": "Python 3 (ipykernel)",
   "language": "python",
   "name": "python3"
  },
  "language_info": {
   "codemirror_mode": {
    "name": "ipython",
    "version": 3
   },
   "file_extension": ".py",
   "mimetype": "text/x-python",
   "name": "python",
   "nbconvert_exporter": "python",
   "pygments_lexer": "ipython3",
   "version": "3.8.10"
  }
 },
 "nbformat": 4,
 "nbformat_minor": 5
}
